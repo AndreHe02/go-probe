{
 "cells": [
  {
   "cell_type": "code",
   "execution_count": 1,
   "metadata": {},
   "outputs": [],
   "source": [
    "from probe_experiment import *\n",
    "from handcrafted_datasets import Dataset\n",
    "from models import *\n",
    "import torch\n",
    "import torch.nn as nn\n",
    "from sklearn.metrics import roc_curve, roc_auc_score"
   ]
  },
  {
   "cell_type": "code",
   "execution_count": 2,
   "metadata": {},
   "outputs": [
    {
     "name": "stdout",
     "output_type": "stream",
     "text": [
      "done loading data\n",
      "split sizes:\n",
      "train 552\n",
      "test 138\n"
     ]
    }
   ],
   "source": [
    "dataset = Dataset('last_move', 'C:\\\\Users\\\\andre\\\\go-ai\\\\data', 0.8, 0.2, 1024)\n",
    "\n",
    "def get_train_loader():\n",
    "    dataset.shuffle('train')\n",
    "    return dataset.loader('train', max_ram_files=100)\n",
    "\n",
    "def get_test_loader():\n",
    "    return dataset.loader('test', max_ram_files=100)"
   ]
  },
  {
   "cell_type": "code",
   "execution_count": 3,
   "metadata": {},
   "outputs": [],
   "source": [
    "import numpy as np\n",
    "mht_dist_grid = np.zeros((39, 39))\n",
    "for dist in range(39):\n",
    "    for i in range(dist+1):\n",
    "        j = dist - i\n",
    "        for r1, c1 in ((i, j), (i, -j), (-i, j), (-i, -j)):\n",
    "            r, c = r1+19, c1+19\n",
    "            if 0 <= r < 39 and 0 <= c < 39:\n",
    "                mht_dist_grid[r][c] = dist\n",
    "\n",
    "def mht_grid_19x19(center_r, center_c):\n",
    "    return mht_dist_grid[19-center_r:38-center_r, 19-center_c:38-center_c]     \n",
    "\n",
    "mht_grids = {pt:torch.Tensor(mht_grid_19x19(pt//19, pt%19)).detach() for pt in range(19*19)}\n",
    "                \n",
    "def weighted_mht_dist_loss(pred, target):\n",
    "    mht = [mht_grids[int(pt.data.item())] for pt in target]\n",
    "    mht = torch.stack(mht)                  \n",
    "    mht_flat = nn.Flatten()(mht).cuda()\n",
    "    pred = nn.Softmax()(nn.Flatten()(pred))\n",
    "    return torch.mean(torch.sum(pred * mht_flat, dim=1))\n",
    "\n",
    "criterion = weighted_mht_dist_loss"
   ]
  },
  {
   "cell_type": "code",
   "execution_count": 4,
   "metadata": {},
   "outputs": [
    {
     "data": {
      "text/plain": [
       "'\\nr, c = 5, 18\\np = np.ones((1, 19, 19)) * -100\\np[0][r+2][c-1] = 100\\nweighted_mht_dist_loss(torch.from_numpy(p), r*19+c)\\n'"
      ]
     },
     "execution_count": 4,
     "metadata": {},
     "output_type": "execute_result"
    }
   ],
   "source": [
    "'''\n",
    "r, c = 5, 18\n",
    "p = np.ones((1, 19, 19)) * -100\n",
    "p[0][r+2][c-1] = 100\n",
    "weighted_mht_dist_loss(torch.from_numpy(p), r*19+c)\n",
    "'''"
   ]
  },
  {
   "cell_type": "code",
   "execution_count": 5,
   "metadata": {},
   "outputs": [],
   "source": [
    "go_model = load_go_model_from_ckpt('model_ckpt.pth.tar', rm_prefix=True)\n",
    "feat_models = [CutModel(go_model, i).cuda() for i in range(8)]\n",
    "n_channels = [8, 64, 64, 64, 48, 48, 32, 32]\n",
    "probe_models = [nn.Sequential(nn.Conv2d(nc, 1, 39, padding=19), nn.Flatten()).cuda() for nc in n_channels]"
   ]
  },
  {
   "cell_type": "code",
   "execution_count": null,
   "metadata": {},
   "outputs": [
    {
     "name": "stdout",
     "output_type": "stream",
     "text": [
      "probing at depth 1\n"
     ]
    },
    {
     "name": "stderr",
     "output_type": "stream",
     "text": [
      "100%|██████████████████████████████████████████████████████████████████████████████████████████████████████████████████| 552/552 [16:00<00:00,  1.74s/it]\n"
     ]
    },
    {
     "name": "stdout",
     "output_type": "stream",
     "text": [
      "[LOG] epoch 0 loss 7.764197, new best\n"
     ]
    },
    {
     "name": "stderr",
     "output_type": "stream",
     "text": [
      " 11%|████████████                                                                                                       | 58/552 [01:35<14:22,  1.75s/it]"
     ]
    }
   ],
   "source": [
    "losses = []\n",
    "for depth in range(1, 2):\n",
    "    print('probing at depth %d' % depth)\n",
    "    feat_model = feat_models[depth]\n",
    "    probe_model = probe_models[depth]\n",
    "    exp = ProbeExperiment(get_train_loader, get_test_loader, feat_model)\n",
    "    config = {'name':'lmv/lmv_19x19cnn_d%d'%depth, 'write_log':True, 'progress_bar':True, 'save_ckpt':False}\n",
    "    optimizer = torch.optim.Adam(probe_model.parameters())\n",
    "    exp.run(probe_model, criterion, optimizer, 10, config)\n",
    "    "
   ]
  }
 ],
 "metadata": {
  "kernelspec": {
   "display_name": "Python 3",
   "language": "python",
   "name": "python3"
  },
  "language_info": {
   "codemirror_mode": {
    "name": "ipython",
    "version": 3
   },
   "file_extension": ".py",
   "mimetype": "text/x-python",
   "name": "python",
   "nbconvert_exporter": "python",
   "pygments_lexer": "ipython3",
   "version": "3.6.12"
  }
 },
 "nbformat": 4,
 "nbformat_minor": 5
}
