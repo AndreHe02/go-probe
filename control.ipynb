{
 "cells": [
  {
   "cell_type": "code",
   "execution_count": 1,
   "metadata": {},
   "outputs": [],
   "source": [
    "from annotated_datasets import *\n",
    "import torch.nn as nn\n",
    "import torch.optim as optim\n",
    "from models import *\n",
    "from experiments import *\n",
    "import pandas as pd\n",
    "import re\n",
    "from io_utils import *"
   ]
  },
  {
   "cell_type": "code",
   "execution_count": 2,
   "metadata": {},
   "outputs": [
    {
     "data": {
      "text/plain": [
       "\"\\nfrom collections import defaultdict\\nfreqs = defaultdict(lambda : 0)\\nfor ant in read_pkl('data/filtered_annotations.pkl'):\\n    cmt = ant['comments']\\n    cmt = cmt.lower()\\n    for word in re.sub('[^A-Za-z0-9 ]+', '', cmt.lower()).split(' '):\\n        if word in go_dict:\\n            freqs[word] += 1  \\n            \\ngo_dict.sort(key=lambda x: -freqs[x])\\nwrite_pkl(go_dict, 'data/sorted_go_dict.pkl')\\n\""
      ]
     },
     "execution_count": 2,
     "metadata": {},
     "output_type": "execute_result"
    }
   ],
   "source": [
    "'''\n",
    "from collections import defaultdict\n",
    "freqs = defaultdict(lambda : 0)\n",
    "for ant in read_pkl('data/filtered_annotations.pkl'):\n",
    "    cmt = ant['comments']\n",
    "    cmt = cmt.lower()\n",
    "    for word in re.sub('[^A-Za-z0-9 ]+', '', cmt.lower()).split(' '):\n",
    "        if word in go_dict:\n",
    "            freqs[word] += 1  \n",
    "            \n",
    "go_dict.sort(key=lambda x: -freqs[x])\n",
    "write_pkl(go_dict, 'data/sorted_go_dict.pkl')\n",
    "'''"
   ]
  },
  {
   "cell_type": "code",
   "execution_count": 3,
   "metadata": {},
   "outputs": [],
   "source": [
    "go_dict = read_pkl('data/sorted_go_dict.pkl')\n",
    "norepeats = []\n",
    "for w in go_dict:\n",
    "    if not w in norepeats:\n",
    "        norepeats.append(w)\n",
    "key_words = norepeats[:30]"
   ]
  },
  {
   "cell_type": "code",
   "execution_count": 4,
   "metadata": {},
   "outputs": [],
   "source": [
    "from collections import defaultdict\n",
    "ants = read_pkl('data/filtered_annotations.pkl')\n",
    "freqs = defaultdict(lambda : 0)\n",
    "for ant in ants:\n",
    "    cmt = ant['comments']\n",
    "    for word in re.sub('[^A-Za-z0-9 ]+', '', cmt.lower()).split(' '):\n",
    "        if word.isalpha() and len(word) > 1:\n",
    "            freqs[word] += 1\n",
    "\n",
    "words = [(k, freqs[k]) for k in freqs.keys()]\n",
    "words.sort(key=lambda x: -x[1])\n",
    "control_words = [w[0] for w in words[:30]]"
   ]
  },
  {
   "cell_type": "code",
   "execution_count": 5,
   "metadata": {},
   "outputs": [],
   "source": [
    "def better_bag_of_words(words):\n",
    "    def bow(ant):\n",
    "        nonlocal words\n",
    "        cmt = ant['comments']\n",
    "        cmt = cmt.lower()\n",
    "        label = np.zeros(len(words))\n",
    "        for word in re.sub('[^A-Za-z0-9 ]+', '', cmt.lower()).split(' '):\n",
    "            if word in words:\n",
    "                label[words.index(word)] = 1\n",
    "        return label\n",
    "    return bow  "
   ]
  },
  {
   "cell_type": "code",
   "execution_count": 6,
   "metadata": {},
   "outputs": [],
   "source": [
    "probe_words = key_words + control_words #fifty each\n",
    "dataset = get_annotated_dataset('data/filtered_annotations.pkl',\n",
    "                                seven_planes,\n",
    "                                better_bag_of_words(probe_words))"
   ]
  },
  {
   "cell_type": "code",
   "execution_count": 7,
   "metadata": {},
   "outputs": [
    {
     "data": {
      "text/plain": [
       "array([ 15682.,  13413.,  10701.,   9835.,   9416.,   8609.,   6395.,\n",
       "         6736.,   5727.,   5084.,   5007.,   4692.,   3544.,   3720.,\n",
       "         3618.,   3363.,   3336.,   2501.,   2705.,   2356.,   2416.,\n",
       "         2171.,   2163.,   1687.,   1654.,   1481.,   1411.,   1216.,\n",
       "          968.,    887., 105329.,  91335.,  94699.,  84628.,  67324.,\n",
       "        47791.,  56742.,  59176.,  48020.,  44574.,  41936.,  40791.,\n",
       "        44712.,  43446.,  38459.,  36189.,  32694.,  29837.,  32675.,\n",
       "        31737.,  28743.,  27073.,  26545.,  27934.,  25751.,  27377.,\n",
       "        23910.,  20690.,  25581.,  25886.])"
      ]
     },
     "execution_count": 7,
     "metadata": {},
     "output_type": "execute_result"
    }
   ],
   "source": [
    "import numpy as np\n",
    "np.sum(np.stack([d[1] for d in dataset]), axis=0)"
   ]
  },
  {
   "cell_type": "code",
   "execution_count": 8,
   "metadata": {},
   "outputs": [],
   "source": [
    "def cross_validation_run(dataset, get_reprs, init_probes, name, log_dir):\n",
    "    metric_dfs = []\n",
    "    for val_idx in range(10):\n",
    "        chunk_size = len(dataset)//10\n",
    "        train_dataset = dataset[:val_idx*chunk_size] + dataset[(val_idx+1)*chunk_size:]\n",
    "        test_dataset = dataset[val_idx*chunk_size:(val_idx+1)*chunk_size]\n",
    "\n",
    "        probes = init_probes()\n",
    "        optimizers = [optim.Adam(probes[i].parameters(), lr=0.001) for i in range(len(probes))]\n",
    "\n",
    "        probe_layers_parallel(train_dataset, test_dataset, get_reprs, probes, optimizers, criterion, num_epochs, log_dir%val_idx)\n",
    "        \n",
    "        df = evaluate_auc(test_dataset, get_reprs, probes)\n",
    "        df['val'] = val_idx\n",
    "        metric_dfs.append(df)\n",
    "            \n",
    "    metric_df = pd.concat(metric_dfs)\n",
    "    metric_df['name'] = name\n",
    "    return metric_df"
   ]
  },
  {
   "cell_type": "code",
   "execution_count": 9,
   "metadata": {},
   "outputs": [],
   "source": [
    "model = load_go_model_from_ckpt('model_ckpt.pth.tar', rm_prefix=True).cuda()\n",
    "n_channels = [32]\n",
    "criterion = nn.BCEWithLogitsLoss()\n",
    "num_epochs = 5\n",
    "init_probes = lambda : [nn.Sequential(nn.Flatten(), nn.Linear(nc*19*19, len(probe_words))).cuda() for nc in n_channels]"
   ]
  },
  {
   "cell_type": "code",
   "execution_count": 10,
   "metadata": {},
   "outputs": [
    {
     "name": "stderr",
     "output_type": "stream",
     "text": [
      "100%|████████████████████████████████████████████████████████████████████████████████| 412/412 [00:46<00:00,  8.93it/s]\n",
      "100%|██████████████████████████████████████████████████████████████████████████████████| 46/46 [00:04<00:00,  9.85it/s]\n",
      "  0%|                                                                                          | 0/412 [00:00<?, ?it/s]"
     ]
    },
    {
     "name": "stdout",
     "output_type": "stream",
     "text": [
      "[0.27189904]\n"
     ]
    },
    {
     "name": "stderr",
     "output_type": "stream",
     "text": [
      "100%|████████████████████████████████████████████████████████████████████████████████| 412/412 [00:35<00:00, 11.65it/s]\n",
      "100%|██████████████████████████████████████████████████████████████████████████████████| 46/46 [00:04<00:00,  9.97it/s]\n",
      "  0%|▍                                                                                 | 2/412 [00:00<00:32, 12.74it/s]"
     ]
    },
    {
     "name": "stdout",
     "output_type": "stream",
     "text": [
      "[0.27170646]\n"
     ]
    },
    {
     "name": "stderr",
     "output_type": "stream",
     "text": [
      "100%|████████████████████████████████████████████████████████████████████████████████| 412/412 [00:33<00:00, 12.31it/s]\n",
      "100%|██████████████████████████████████████████████████████████████████████████████████| 46/46 [00:04<00:00, 10.00it/s]\n",
      "  0%|▍                                                                                 | 2/412 [00:00<00:31, 12.98it/s]"
     ]
    },
    {
     "name": "stdout",
     "output_type": "stream",
     "text": [
      "[0.27197673]\n"
     ]
    },
    {
     "name": "stderr",
     "output_type": "stream",
     "text": [
      "100%|████████████████████████████████████████████████████████████████████████████████| 412/412 [00:38<00:00, 10.70it/s]\n",
      "100%|██████████████████████████████████████████████████████████████████████████████████| 46/46 [00:04<00:00, 10.20it/s]\n",
      "  0%|▍                                                                                 | 2/412 [00:00<00:31, 12.82it/s]"
     ]
    },
    {
     "name": "stdout",
     "output_type": "stream",
     "text": [
      "[0.27236192]\n"
     ]
    },
    {
     "name": "stderr",
     "output_type": "stream",
     "text": [
      "100%|████████████████████████████████████████████████████████████████████████████████| 412/412 [00:37<00:00, 10.95it/s]\n",
      "100%|██████████████████████████████████████████████████████████████████████████████████| 46/46 [00:04<00:00,  9.23it/s]\n"
     ]
    },
    {
     "name": "stdout",
     "output_type": "stream",
     "text": [
      "[0.27276413]\n"
     ]
    },
    {
     "name": "stderr",
     "output_type": "stream",
     "text": [
      "100%|████████████████████████████████████████████████████████████████████████████████| 412/412 [00:37<00:00, 11.10it/s]\n",
      "100%|██████████████████████████████████████████████████████████████████████████████████| 46/46 [00:04<00:00,  9.49it/s]\n",
      "  0%|                                                                                          | 0/412 [00:00<?, ?it/s]"
     ]
    },
    {
     "name": "stdout",
     "output_type": "stream",
     "text": [
      "[0.27231993]\n"
     ]
    },
    {
     "name": "stderr",
     "output_type": "stream",
     "text": [
      "100%|████████████████████████████████████████████████████████████████████████████████| 412/412 [00:39<00:00, 10.47it/s]\n",
      "100%|██████████████████████████████████████████████████████████████████████████████████| 46/46 [00:04<00:00,  9.74it/s]\n",
      "  0%|                                                                                          | 0/412 [00:00<?, ?it/s]"
     ]
    },
    {
     "name": "stdout",
     "output_type": "stream",
     "text": [
      "[0.27208504]\n"
     ]
    },
    {
     "name": "stderr",
     "output_type": "stream",
     "text": [
      "100%|████████████████████████████████████████████████████████████████████████████████| 412/412 [00:39<00:00, 10.42it/s]\n",
      "100%|██████████████████████████████████████████████████████████████████████████████████| 46/46 [00:04<00:00, 10.21it/s]\n",
      "  0%|▍                                                                                 | 2/412 [00:00<00:36, 11.36it/s]"
     ]
    },
    {
     "name": "stdout",
     "output_type": "stream",
     "text": [
      "[0.27229685]\n"
     ]
    },
    {
     "name": "stderr",
     "output_type": "stream",
     "text": [
      "100%|████████████████████████████████████████████████████████████████████████████████| 412/412 [00:38<00:00, 10.83it/s]\n",
      "100%|██████████████████████████████████████████████████████████████████████████████████| 46/46 [00:05<00:00,  8.13it/s]\n",
      "  0%|▏                                                                                 | 1/412 [00:00<00:41, 10.00it/s]"
     ]
    },
    {
     "name": "stdout",
     "output_type": "stream",
     "text": [
      "[0.27263405]\n"
     ]
    },
    {
     "name": "stderr",
     "output_type": "stream",
     "text": [
      "100%|████████████████████████████████████████████████████████████████████████████████| 412/412 [00:37<00:00, 10.86it/s]\n",
      "100%|██████████████████████████████████████████████████████████████████████████████████| 46/46 [00:04<00:00,  9.48it/s]\n"
     ]
    },
    {
     "name": "stdout",
     "output_type": "stream",
     "text": [
      "[0.27289617]\n"
     ]
    },
    {
     "name": "stderr",
     "output_type": "stream",
     "text": [
      "100%|████████████████████████████████████████████████████████████████████████████████| 412/412 [00:38<00:00, 10.58it/s]\n",
      "100%|██████████████████████████████████████████████████████████████████████████████████| 46/46 [00:04<00:00, 10.67it/s]\n",
      "  0%|                                                                                          | 0/412 [00:00<?, ?it/s]"
     ]
    },
    {
     "name": "stdout",
     "output_type": "stream",
     "text": [
      "[0.27831565]\n"
     ]
    },
    {
     "name": "stderr",
     "output_type": "stream",
     "text": [
      "100%|████████████████████████████████████████████████████████████████████████████████| 412/412 [00:39<00:00, 10.47it/s]\n",
      "100%|██████████████████████████████████████████████████████████████████████████████████| 46/46 [00:05<00:00,  9.15it/s]\n",
      "  0%|                                                                                          | 0/412 [00:00<?, ?it/s]"
     ]
    },
    {
     "name": "stdout",
     "output_type": "stream",
     "text": [
      "[0.27811647]\n"
     ]
    },
    {
     "name": "stderr",
     "output_type": "stream",
     "text": [
      "100%|████████████████████████████████████████████████████████████████████████████████| 412/412 [00:37<00:00, 10.87it/s]\n",
      "100%|██████████████████████████████████████████████████████████████████████████████████| 46/46 [00:04<00:00, 10.09it/s]\n",
      "  0%|                                                                                          | 0/412 [00:00<?, ?it/s]"
     ]
    },
    {
     "name": "stdout",
     "output_type": "stream",
     "text": [
      "[0.27841628]\n"
     ]
    },
    {
     "name": "stderr",
     "output_type": "stream",
     "text": [
      "100%|████████████████████████████████████████████████████████████████████████████████| 412/412 [00:38<00:00, 10.70it/s]\n",
      "100%|██████████████████████████████████████████████████████████████████████████████████| 46/46 [00:04<00:00,  9.66it/s]\n",
      "  0%|▍                                                                                 | 2/412 [00:00<00:32, 12.50it/s]"
     ]
    },
    {
     "name": "stdout",
     "output_type": "stream",
     "text": [
      "[0.27874282]\n"
     ]
    },
    {
     "name": "stderr",
     "output_type": "stream",
     "text": [
      "100%|████████████████████████████████████████████████████████████████████████████████| 412/412 [00:39<00:00, 10.33it/s]\n",
      "100%|██████████████████████████████████████████████████████████████████████████████████| 46/46 [00:05<00:00,  8.81it/s]\n"
     ]
    },
    {
     "name": "stdout",
     "output_type": "stream",
     "text": [
      "[0.2792432]\n"
     ]
    },
    {
     "name": "stderr",
     "output_type": "stream",
     "text": [
      "100%|████████████████████████████████████████████████████████████████████████████████| 412/412 [00:37<00:00, 11.06it/s]\n",
      "100%|██████████████████████████████████████████████████████████████████████████████████| 46/46 [00:05<00:00,  8.69it/s]\n",
      "  0%|▏                                                                                 | 1/412 [00:00<00:42,  9.71it/s]"
     ]
    },
    {
     "name": "stdout",
     "output_type": "stream",
     "text": [
      "[0.27137872]\n"
     ]
    },
    {
     "name": "stderr",
     "output_type": "stream",
     "text": [
      "100%|████████████████████████████████████████████████████████████████████████████████| 412/412 [00:37<00:00, 11.07it/s]\n",
      "100%|██████████████████████████████████████████████████████████████████████████████████| 46/46 [00:03<00:00, 13.11it/s]\n",
      "  0%|                                                                                          | 0/412 [00:00<?, ?it/s]"
     ]
    },
    {
     "name": "stdout",
     "output_type": "stream",
     "text": [
      "[0.27106521]\n"
     ]
    },
    {
     "name": "stderr",
     "output_type": "stream",
     "text": [
      "100%|████████████████████████████████████████████████████████████████████████████████| 412/412 [00:33<00:00, 12.35it/s]\n",
      "100%|██████████████████████████████████████████████████████████████████████████████████| 46/46 [00:03<00:00, 12.95it/s]\n",
      "  0%|▍                                                                                 | 2/412 [00:00<00:34, 11.83it/s]"
     ]
    },
    {
     "name": "stdout",
     "output_type": "stream",
     "text": [
      "[0.27121869]\n"
     ]
    },
    {
     "name": "stderr",
     "output_type": "stream",
     "text": [
      "100%|████████████████████████████████████████████████████████████████████████████████| 412/412 [00:33<00:00, 12.14it/s]\n",
      "100%|██████████████████████████████████████████████████████████████████████████████████| 46/46 [00:03<00:00, 13.05it/s]\n",
      "  0%|▍                                                                                 | 2/412 [00:00<00:33, 12.27it/s]"
     ]
    },
    {
     "name": "stdout",
     "output_type": "stream",
     "text": [
      "[0.27153766]\n"
     ]
    },
    {
     "name": "stderr",
     "output_type": "stream",
     "text": [
      "100%|████████████████████████████████████████████████████████████████████████████████| 412/412 [00:36<00:00, 11.17it/s]\n",
      "100%|██████████████████████████████████████████████████████████████████████████████████| 46/46 [00:03<00:00, 12.94it/s]\n"
     ]
    },
    {
     "name": "stdout",
     "output_type": "stream",
     "text": [
      "[0.27184629]\n"
     ]
    },
    {
     "name": "stderr",
     "output_type": "stream",
     "text": [
      "100%|████████████████████████████████████████████████████████████████████████████████| 412/412 [00:34<00:00, 12.01it/s]\n",
      "100%|██████████████████████████████████████████████████████████████████████████████████| 46/46 [00:07<00:00,  6.05it/s]\n",
      "  0%|                                                                                          | 0/412 [00:00<?, ?it/s]"
     ]
    },
    {
     "name": "stdout",
     "output_type": "stream",
     "text": [
      "[0.27150436]\n"
     ]
    },
    {
     "name": "stderr",
     "output_type": "stream",
     "text": [
      "100%|████████████████████████████████████████████████████████████████████████████████| 412/412 [00:34<00:00, 11.82it/s]\n",
      "100%|██████████████████████████████████████████████████████████████████████████████████| 46/46 [00:04<00:00,  9.69it/s]\n",
      "  0%|▍                                                                                 | 2/412 [00:00<00:35, 11.56it/s]"
     ]
    },
    {
     "name": "stdout",
     "output_type": "stream",
     "text": [
      "[0.27120974]\n"
     ]
    },
    {
     "name": "stderr",
     "output_type": "stream",
     "text": [
      "100%|████████████████████████████████████████████████████████████████████████████████| 412/412 [00:33<00:00, 12.31it/s]\n",
      "100%|██████████████████████████████████████████████████████████████████████████████████| 46/46 [00:03<00:00, 12.97it/s]\n",
      "  0%|▍                                                                                 | 2/412 [00:00<00:35, 11.49it/s]"
     ]
    },
    {
     "name": "stdout",
     "output_type": "stream",
     "text": [
      "[0.27141927]\n"
     ]
    },
    {
     "name": "stderr",
     "output_type": "stream",
     "text": [
      "100%|████████████████████████████████████████████████████████████████████████████████| 412/412 [00:36<00:00, 11.26it/s]\n",
      "100%|██████████████████████████████████████████████████████████████████████████████████| 46/46 [00:03<00:00, 12.94it/s]\n",
      "  0%|▍                                                                                 | 2/412 [00:00<00:35, 11.56it/s]"
     ]
    },
    {
     "name": "stdout",
     "output_type": "stream",
     "text": [
      "[0.27170276]\n"
     ]
    },
    {
     "name": "stderr",
     "output_type": "stream",
     "text": [
      "100%|████████████████████████████████████████████████████████████████████████████████| 412/412 [00:38<00:00, 10.75it/s]\n",
      "100%|██████████████████████████████████████████████████████████████████████████████████| 46/46 [00:03<00:00, 12.68it/s]\n"
     ]
    },
    {
     "name": "stdout",
     "output_type": "stream",
     "text": [
      "[0.27223356]\n"
     ]
    },
    {
     "name": "stderr",
     "output_type": "stream",
     "text": [
      "100%|████████████████████████████████████████████████████████████████████████████████| 412/412 [00:36<00:00, 11.32it/s]\n",
      "100%|██████████████████████████████████████████████████████████████████████████████████| 46/46 [00:05<00:00,  8.37it/s]\n",
      "  0%|                                                                                          | 0/412 [00:00<?, ?it/s]"
     ]
    },
    {
     "name": "stdout",
     "output_type": "stream",
     "text": [
      "[0.27693325]\n"
     ]
    },
    {
     "name": "stderr",
     "output_type": "stream",
     "text": [
      "100%|████████████████████████████████████████████████████████████████████████████████| 412/412 [00:39<00:00, 10.44it/s]\n",
      "100%|██████████████████████████████████████████████████████████████████████████████████| 46/46 [00:03<00:00, 13.12it/s]\n",
      "  0%|▍                                                                                 | 2/412 [00:00<00:35, 11.49it/s]"
     ]
    },
    {
     "name": "stdout",
     "output_type": "stream",
     "text": [
      "[0.27701078]\n"
     ]
    },
    {
     "name": "stderr",
     "output_type": "stream",
     "text": [
      "100%|████████████████████████████████████████████████████████████████████████████████| 412/412 [00:39<00:00, 10.37it/s]\n",
      "100%|██████████████████████████████████████████████████████████████████████████████████| 46/46 [00:03<00:00, 13.11it/s]\n",
      "  0%|▍                                                                                 | 2/412 [00:00<00:34, 11.83it/s]"
     ]
    },
    {
     "name": "stdout",
     "output_type": "stream",
     "text": [
      "[0.27706208]\n"
     ]
    },
    {
     "name": "stderr",
     "output_type": "stream",
     "text": [
      "100%|████████████████████████████████████████████████████████████████████████████████| 412/412 [00:36<00:00, 11.28it/s]\n",
      "100%|██████████████████████████████████████████████████████████████████████████████████| 46/46 [00:03<00:00, 13.04it/s]\n",
      "  0%|▍                                                                                 | 2/412 [00:00<00:30, 13.33it/s]"
     ]
    },
    {
     "name": "stdout",
     "output_type": "stream",
     "text": [
      "[0.27746765]\n"
     ]
    },
    {
     "name": "stderr",
     "output_type": "stream",
     "text": [
      "100%|████████████████████████████████████████████████████████████████████████████████| 412/412 [00:37<00:00, 11.06it/s]\n",
      "100%|██████████████████████████████████████████████████████████████████████████████████| 46/46 [00:03<00:00, 13.11it/s]\n"
     ]
    },
    {
     "name": "stdout",
     "output_type": "stream",
     "text": [
      "[0.27792484]\n"
     ]
    },
    {
     "name": "stderr",
     "output_type": "stream",
     "text": [
      "100%|████████████████████████████████████████████████████████████████████████████████| 412/412 [00:38<00:00, 10.75it/s]\n",
      "100%|██████████████████████████████████████████████████████████████████████████████████| 46/46 [00:05<00:00,  8.90it/s]\n",
      "  0%|                                                                                          | 0/412 [00:00<?, ?it/s]"
     ]
    },
    {
     "name": "stdout",
     "output_type": "stream",
     "text": [
      "[0.27328278]\n"
     ]
    },
    {
     "name": "stderr",
     "output_type": "stream",
     "text": [
      "100%|████████████████████████████████████████████████████████████████████████████████| 412/412 [00:40<00:00, 10.10it/s]\n",
      "100%|██████████████████████████████████████████████████████████████████████████████████| 46/46 [00:03<00:00, 12.63it/s]\n",
      "  0%|                                                                                          | 0/412 [00:00<?, ?it/s]"
     ]
    },
    {
     "name": "stdout",
     "output_type": "stream",
     "text": [
      "[0.27296256]\n"
     ]
    },
    {
     "name": "stderr",
     "output_type": "stream",
     "text": [
      "100%|████████████████████████████████████████████████████████████████████████████████| 412/412 [00:35<00:00, 11.61it/s]\n",
      "100%|██████████████████████████████████████████████████████████████████████████████████| 46/46 [00:03<00:00, 13.37it/s]\n",
      "  0%|▍                                                                                 | 2/412 [00:00<00:31, 13.07it/s]"
     ]
    },
    {
     "name": "stdout",
     "output_type": "stream",
     "text": [
      "[0.27297265]\n"
     ]
    },
    {
     "name": "stderr",
     "output_type": "stream",
     "text": [
      "100%|████████████████████████████████████████████████████████████████████████████████| 412/412 [00:39<00:00, 10.35it/s]\n",
      "100%|██████████████████████████████████████████████████████████████████████████████████| 46/46 [00:03<00:00, 12.08it/s]\n",
      "  0%|▍                                                                                 | 2/412 [00:00<00:31, 13.07it/s]"
     ]
    },
    {
     "name": "stdout",
     "output_type": "stream",
     "text": [
      "[0.27336069]\n"
     ]
    },
    {
     "name": "stderr",
     "output_type": "stream",
     "text": [
      "100%|████████████████████████████████████████████████████████████████████████████████| 412/412 [00:36<00:00, 11.21it/s]\n",
      "100%|██████████████████████████████████████████████████████████████████████████████████| 46/46 [00:03<00:00, 13.19it/s]\n"
     ]
    },
    {
     "name": "stdout",
     "output_type": "stream",
     "text": [
      "[0.27377542]\n"
     ]
    },
    {
     "name": "stderr",
     "output_type": "stream",
     "text": [
      "100%|████████████████████████████████████████████████████████████████████████████████| 412/412 [00:39<00:00, 10.41it/s]\n",
      "100%|██████████████████████████████████████████████████████████████████████████████████| 46/46 [00:05<00:00,  7.92it/s]\n",
      "  0%|                                                                                          | 0/412 [00:00<?, ?it/s]"
     ]
    },
    {
     "name": "stdout",
     "output_type": "stream",
     "text": [
      "[0.26661721]\n"
     ]
    },
    {
     "name": "stderr",
     "output_type": "stream",
     "text": [
      "100%|████████████████████████████████████████████████████████████████████████████████| 412/412 [00:32<00:00, 12.51it/s]\n",
      "100%|██████████████████████████████████████████████████████████████████████████████████| 46/46 [00:04<00:00, 10.20it/s]\n",
      "  0%|▍                                                                                 | 2/412 [00:00<00:34, 11.83it/s]"
     ]
    },
    {
     "name": "stdout",
     "output_type": "stream",
     "text": [
      "[0.26644943]\n"
     ]
    },
    {
     "name": "stderr",
     "output_type": "stream",
     "text": [
      "100%|████████████████████████████████████████████████████████████████████████████████| 412/412 [00:37<00:00, 11.08it/s]\n",
      "100%|██████████████████████████████████████████████████████████████████████████████████| 46/46 [00:03<00:00, 13.22it/s]\n",
      "  0%|▍                                                                                 | 2/412 [00:00<00:31, 12.90it/s]"
     ]
    },
    {
     "name": "stdout",
     "output_type": "stream",
     "text": [
      "[0.26679346]\n"
     ]
    },
    {
     "name": "stderr",
     "output_type": "stream",
     "text": [
      "100%|████████████████████████████████████████████████████████████████████████████████| 412/412 [00:32<00:00, 12.75it/s]\n",
      "100%|██████████████████████████████████████████████████████████████████████████████████| 46/46 [00:03<00:00, 13.25it/s]\n",
      "  0%|▍                                                                                 | 2/412 [00:00<00:34, 11.90it/s]"
     ]
    },
    {
     "name": "stdout",
     "output_type": "stream",
     "text": [
      "[0.26704371]\n"
     ]
    },
    {
     "name": "stderr",
     "output_type": "stream",
     "text": [
      "100%|████████████████████████████████████████████████████████████████████████████████| 412/412 [00:32<00:00, 12.87it/s]\n",
      "100%|██████████████████████████████████████████████████████████████████████████████████| 46/46 [00:03<00:00, 13.19it/s]\n"
     ]
    },
    {
     "name": "stdout",
     "output_type": "stream",
     "text": [
      "[0.26747385]\n"
     ]
    },
    {
     "name": "stderr",
     "output_type": "stream",
     "text": [
      "100%|████████████████████████████████████████████████████████████████████████████████| 412/412 [00:33<00:00, 12.45it/s]\n",
      "100%|██████████████████████████████████████████████████████████████████████████████████| 46/46 [00:03<00:00, 13.13it/s]\n",
      "  0%|                                                                                          | 0/412 [00:00<?, ?it/s]"
     ]
    },
    {
     "name": "stdout",
     "output_type": "stream",
     "text": [
      "[0.26538564]\n"
     ]
    },
    {
     "name": "stderr",
     "output_type": "stream",
     "text": [
      "100%|████████████████████████████████████████████████████████████████████████████████| 412/412 [00:32<00:00, 12.64it/s]\n",
      "100%|██████████████████████████████████████████████████████████████████████████████████| 46/46 [00:03<00:00, 12.99it/s]\n",
      "  0%|▍                                                                                 | 2/412 [00:00<00:33, 12.42it/s]"
     ]
    },
    {
     "name": "stdout",
     "output_type": "stream",
     "text": [
      "[0.26534334]\n"
     ]
    },
    {
     "name": "stderr",
     "output_type": "stream",
     "text": [
      "100%|████████████████████████████████████████████████████████████████████████████████| 412/412 [00:32<00:00, 12.79it/s]\n",
      "100%|██████████████████████████████████████████████████████████████████████████████████| 46/46 [00:03<00:00, 13.10it/s]\n",
      "  0%|▍                                                                                 | 2/412 [00:00<00:34, 12.05it/s]"
     ]
    },
    {
     "name": "stdout",
     "output_type": "stream",
     "text": [
      "[0.26576815]\n"
     ]
    },
    {
     "name": "stderr",
     "output_type": "stream",
     "text": [
      "100%|████████████████████████████████████████████████████████████████████████████████| 412/412 [00:32<00:00, 12.53it/s]\n",
      "100%|██████████████████████████████████████████████████████████████████████████████████| 46/46 [00:03<00:00, 13.01it/s]\n",
      "  0%|                                                                                          | 0/412 [00:00<?, ?it/s]"
     ]
    },
    {
     "name": "stdout",
     "output_type": "stream",
     "text": [
      "[0.26591894]\n"
     ]
    },
    {
     "name": "stderr",
     "output_type": "stream",
     "text": [
      "100%|████████████████████████████████████████████████████████████████████████████████| 412/412 [00:33<00:00, 12.36it/s]\n",
      "100%|██████████████████████████████████████████████████████████████████████████████████| 46/46 [00:03<00:00, 12.96it/s]\n"
     ]
    },
    {
     "name": "stdout",
     "output_type": "stream",
     "text": [
      "[0.26645299]\n"
     ]
    },
    {
     "name": "stderr",
     "output_type": "stream",
     "text": [
      "100%|████████████████████████████████████████████████████████████████████████████████| 412/412 [00:35<00:00, 11.54it/s]\n",
      "100%|██████████████████████████████████████████████████████████████████████████████████| 46/46 [00:03<00:00, 12.87it/s]\n",
      "  0%|                                                                                          | 0/412 [00:00<?, ?it/s]"
     ]
    },
    {
     "name": "stdout",
     "output_type": "stream",
     "text": [
      "[0.27603797]\n"
     ]
    },
    {
     "name": "stderr",
     "output_type": "stream",
     "text": [
      "100%|████████████████████████████████████████████████████████████████████████████████| 412/412 [00:34<00:00, 11.98it/s]\n",
      "100%|██████████████████████████████████████████████████████████████████████████████████| 46/46 [00:03<00:00, 12.85it/s]\n",
      "  0%|                                                                                          | 0/412 [00:00<?, ?it/s]"
     ]
    },
    {
     "name": "stdout",
     "output_type": "stream",
     "text": [
      "[0.27588141]\n"
     ]
    },
    {
     "name": "stderr",
     "output_type": "stream",
     "text": [
      "100%|████████████████████████████████████████████████████████████████████████████████| 412/412 [00:39<00:00, 10.54it/s]\n",
      "100%|██████████████████████████████████████████████████████████████████████████████████| 46/46 [00:03<00:00, 12.78it/s]\n",
      "  0%|▍                                                                                 | 2/412 [00:00<00:31, 12.82it/s]"
     ]
    },
    {
     "name": "stdout",
     "output_type": "stream",
     "text": [
      "[0.27621708]\n"
     ]
    },
    {
     "name": "stderr",
     "output_type": "stream",
     "text": [
      "100%|████████████████████████████████████████████████████████████████████████████████| 412/412 [00:40<00:00, 10.26it/s]\n",
      "100%|██████████████████████████████████████████████████████████████████████████████████| 46/46 [00:03<00:00, 13.11it/s]\n",
      "  0%|▍                                                                                 | 2/412 [00:00<00:33, 12.27it/s]"
     ]
    },
    {
     "name": "stdout",
     "output_type": "stream",
     "text": [
      "[0.27649808]\n"
     ]
    },
    {
     "name": "stderr",
     "output_type": "stream",
     "text": [
      "100%|████████████████████████████████████████████████████████████████████████████████| 412/412 [00:32<00:00, 12.83it/s]\n",
      "100%|██████████████████████████████████████████████████████████████████████████████████| 46/46 [00:03<00:00, 11.59it/s]\n"
     ]
    },
    {
     "name": "stdout",
     "output_type": "stream",
     "text": [
      "[0.27701393]\n"
     ]
    }
   ],
   "source": [
    "def get_reprs(X):\n",
    "    X = X.type(torch.FloatTensor).cuda()\n",
    "    layer_outputs = model.forward_layer_outputs(X)\n",
    "    return [layer_outputs[-1].detach().cuda()]\n",
    "\n",
    "aucs = cross_validation_run(dataset, get_reprs, init_probes, 'control', 'control/cv%d')"
   ]
  },
  {
   "cell_type": "code",
   "execution_count": 12,
   "metadata": {},
   "outputs": [],
   "source": [
    "write_pkl(aucs, 'controls.pkl')"
   ]
  },
  {
   "cell_type": "code",
   "execution_count": 17,
   "metadata": {},
   "outputs": [],
   "source": [
    "keyword_aucs = aucs.groupby('kw').mean()['auc'][:30-1].values\n",
    "control_aucs = aucs.groupby('kw').mean()['auc'][30:].values"
   ]
  },
  {
   "cell_type": "code",
   "execution_count": 18,
   "metadata": {},
   "outputs": [
    {
     "data": {
      "image/png": "[encoded data removed]",
      "text/plain": [
       "<Figure size 432x288 with 1 Axes>"
      ]
     },
     "metadata": {
      "needs_background": "light"
     },
     "output_type": "display_data"
    }
   ],
   "source": [
    "import numpy\n",
    "import matplotlib.pyplot as plt\n",
    "\n",
    "x = keyword_aucs\n",
    "y = control_aucs\n",
    "\n",
    "bins = numpy.linspace(0.5, 1.0, 10)\n",
    "\n",
    "plt.hist(x, bins=bins, alpha=0.5, label='keywords')\n",
    "plt.hist(y, bins=bins, alpha=0.5, label='control')\n",
    "plt.legend(loc='upper right')\n",
    "plt.show()"
   ]
  }
 ],
 "metadata": {
  "kernelspec": {
   "display_name": "Python 3",
   "language": "python",
   "name": "python3"
  },
  "language_info": {
   "codemirror_mode": {
    "name": "ipython",
    "version": 3
   },
   "file_extension": ".py",
   "mimetype": "text/x-python",
   "name": "python",
   "nbconvert_exporter": "python",
   "pygments_lexer": "ipython3",
   "version": "3.6.12"
  }
 },
 "nbformat": 4,
 "nbformat_minor": 4
}
