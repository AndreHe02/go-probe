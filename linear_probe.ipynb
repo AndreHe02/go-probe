{
 "cells": [
  {
   "cell_type": "code",
   "execution_count": 1,
   "id": "e9116b49",
   "metadata": {},
   "outputs": [],
   "source": [
    "import numpy as np\n",
    "import pickle as pkl\n",
    "import torch\n",
    "import torch.nn as nn\n",
    "import os\n",
    "import torch.optim as optim\n",
    "from probe import ProbeExperiment"
   ]
  },
  {
   "cell_type": "code",
   "execution_count": 2,
   "id": "03bcbbad",
   "metadata": {},
   "outputs": [],
   "source": [
    "with open('data/filtered_annotations.pkl', 'rb') as file:\n",
    "    annotations = pkl.load(file)\n",
    "annotations.sort(key = lambda ant : ant['f_name'])\n",
    "\n",
    "train_ants = annotations[:int(len(annotations)*0.8)]\n",
    "test_ants = annotations[int(len(annotations)*0.8):]\n",
    "\n",
    "keywords = ['territory', 'cut', 'sente', 'shape', 'moyo',\n",
    "            'ko', 'invasion', 'influence', 'wall', 'eye',\n",
    "            'black', 'white', 'to', 'me']"
   ]
  },
  {
   "cell_type": "markdown",
   "id": "af6a72d0",
   "metadata": {},
   "source": [
    "### Go Model"
   ]
  },
  {
   "cell_type": "code",
   "execution_count": 3,
   "id": "fe709e0e",
   "metadata": {},
   "outputs": [],
   "source": [
    "from go_model import GoModel\n",
    "go_model = GoModel(None)\n",
    "checkpoint = torch.load('model_ckpt.pth.tar', map_location=torch.device('cuda'))\n",
    "state_dict = checkpoint['state_dict']\n",
    "state_dict = {key[7:]:state_dict[key] for key in state_dict} #remove 'module.' prefix\n",
    "go_model.load_state_dict(state_dict)\n",
    "\n",
    "class GoFeatModel(nn.Module):\n",
    "    \n",
    "    def __init__(self, go_model):\n",
    "        super(GoFeatModel, self).__init__()\n",
    "        self.convs = go_model.convs\n",
    "        self.nonlinear = go_model.nonlinear\n",
    "    \n",
    "    def forward(self, x):\n",
    "        for i in range(len(self.convs)):\n",
    "            x = self.convs[i](x)\n",
    "            x = self.nonlinear(x)\n",
    "        return nn.Flatten()(x)\n",
    "    \n",
    "feat_model = GoFeatModel(go_model)\n",
    "feat_model = feat_model.cuda() "
   ]
  },
  {
   "cell_type": "markdown",
   "id": "040a7acd",
   "metadata": {},
   "source": [
    "### Probe Model"
   ]
  },
  {
   "cell_type": "code",
   "execution_count": 4,
   "id": "b34e6418",
   "metadata": {},
   "outputs": [],
   "source": [
    "linear_probe = nn.Linear(11552, len(keywords)).cuda() \n",
    "\n",
    "mlp_probe = nn.Sequential(\n",
    "    nn.Linear(11552, 512),\n",
    "    nn.ReLU(),\n",
    "    nn.Linear(512, len(keywords))).cuda()\n",
    "\n",
    "probe_model = linear_probe"
   ]
  },
  {
   "cell_type": "markdown",
   "id": "88ca14e2",
   "metadata": {},
   "source": [
    "### Training"
   ]
  },
  {
   "cell_type": "code",
   "execution_count": 5,
   "id": "d8d36020",
   "metadata": {},
   "outputs": [
    {
     "name": "stderr",
     "output_type": "stream",
     "text": [
      "100%|█████████████████████████████████████████████████████████████████████████████████████████████████████████████████| 2926/2926 [05:37<00:00,  8.67it/s]\n",
      "100%|███████████████████████████████████████████████████████████████████████████████████████████████████████████████████| 732/732 [01:25<00:00,  8.57it/s]\n"
     ]
    },
    {
     "name": "stdout",
     "output_type": "stream",
     "text": [
      "epoch 0 loss 0.287458\n",
      "new best ckpt\n"
     ]
    }
   ],
   "source": [
    "exp = ProbeExperiment(train_ants, test_ants, keywords)\n",
    "\n",
    "criterion = nn.BCEWithLogitsLoss()\n",
    "optimizer = optim.Adam(probe_model.parameters())\n",
    "exp.run('linear_probe', feat_model, probe_model, criterion, optimizer, batch_size=64, num_epochs=1)"
   ]
  },
  {
   "cell_type": "markdown",
   "id": "6ce25da1",
   "metadata": {},
   "source": [
    "### Probe Evaluation"
   ]
  },
  {
   "cell_type": "code",
   "execution_count": null,
   "id": "d47dd099",
   "metadata": {},
   "outputs": [
    {
     "name": "stderr",
     "output_type": "stream",
     "text": [
      " 74%|█████████████████████████████████████████████████████████████████████████████████████▌                             | 545/732 [01:00<00:18,  9.84it/s]"
     ]
    }
   ],
   "source": [
    "preds, labels = exp.test_inference(feat_model, probe_model)"
   ]
  },
  {
   "cell_type": "code",
   "execution_count": null,
   "id": "1e2e6fba",
   "metadata": {},
   "outputs": [],
   "source": [
    "from sklearn.metrics import roc_curve, roc_auc_score\n",
    "import matplotlib.pyplot as plt\n",
    "from math import ceil\n",
    "\n",
    "cols = 5\n",
    "rows = ceil(len(keywords)/cols)\n",
    "plt.rcParams['figure.figsize'] = (3*cols, 3*rows)\n",
    "fig, axs = plt.subplots(rows, cols)\n",
    "fig.subplots_adjust(hspace=0.5)\n",
    "\n",
    "for kw in range(len(keywords)):\n",
    "    kw_preds, kw_labels = preds[:,kw], labels[:,kw]\n",
    "    fprs, tprs, _ = roc_curve(kw_labels, kw_preds)\n",
    "    auc = roc_auc_score(kw_labels, kw_preds)\n",
    "    axs[kw//cols][kw%cols].plot(fprs, tprs)\n",
    "    axs[kw//cols][kw%cols].set_title('%s: auc=%f' % (keywords[kw], auc))"
   ]
  }
 ],
 "metadata": {
  "kernelspec": {
   "display_name": "Python 3",
   "language": "python",
   "name": "python3"
  },
  "language_info": {
   "codemirror_mode": {
    "name": "ipython",
    "version": 3
   },
   "file_extension": ".py",
   "mimetype": "text/x-python",
   "name": "python",
   "nbconvert_exporter": "python",
   "pygments_lexer": "ipython3",
   "version": "3.6.12"
  }
 },
 "nbformat": 4,
 "nbformat_minor": 5
}
