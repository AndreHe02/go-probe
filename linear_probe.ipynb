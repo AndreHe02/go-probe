{
 "cells": [
  {
   "cell_type": "code",
   "execution_count": 1,
   "id": "e9116b49",
   "metadata": {},
   "outputs": [],
   "source": [
    "from betago.dataloader.goboard import GoBoard\n",
    "from betago.processor import SevenPlaneProcessor\n",
    "import numpy as np\n",
    "import pickle as pkl\n",
    "import torch\n",
    "import torch.nn as nn\n",
    "import os\n",
    "from torch.utils.tensorboard import SummaryWriter\n",
    "import torch.optim as optim\n",
    "import random\n",
    "from tqdm import tqdm"
   ]
  },
  {
   "cell_type": "code",
   "execution_count": 23,
   "id": "14a9cec2",
   "metadata": {},
   "outputs": [],
   "source": [
    "with open('filtered_annotations.pkl', 'rb') as file:\n",
    "    annotations = pkl.load(file)"
   ]
  },
  {
   "cell_type": "markdown",
   "id": "af6a72d0",
   "metadata": {},
   "source": [
    "### Go Model"
   ]
  },
  {
   "cell_type": "code",
   "execution_count": 5,
   "id": "fe709e0e",
   "metadata": {},
   "outputs": [],
   "source": [
    "from go_model import GoModel\n",
    "go_model = GoModel(None)\n",
    "checkpoint = torch.load('model_ckpt.pth.tar', map_location=torch.device('cuda'))\n",
    "state_dict = checkpoint['state_dict']\n",
    "state_dict = {key[7:]:state_dict[key] for key in state_dict} #remove 'module.' prefix\n",
    "go_model.load_state_dict(state_dict)\n",
    "\n",
    "class GoReprModel(nn.Module):\n",
    "    \n",
    "    def __init__(self, go_model):\n",
    "        super(GoReprModel, self).__init__()\n",
    "        self.convs = go_model.convs\n",
    "        self.nonlinear = go_model.nonlinear\n",
    "    \n",
    "    def forward(self, x):\n",
    "        for i in range(len(self.convs)):\n",
    "            x = self.convs[i](x)\n",
    "            x = self.nonlinear(x)\n",
    "        return nn.Flatten()(x)\n",
    "    \n",
    "go_repr = GoReprModel(go_model)\n",
    "go_repr = go_repr.cuda() "
   ]
  },
  {
   "cell_type": "markdown",
   "id": "521ef757",
   "metadata": {},
   "source": [
    "### Keywords"
   ]
  },
  {
   "cell_type": "code",
   "execution_count": 6,
   "id": "5d7eadfb",
   "metadata": {},
   "outputs": [],
   "source": [
    "keywords = ['territory', 'cut', 'sente', 'shape', 'moyo',\n",
    "            'ko', 'invasion', 'influence', 'wall', 'eye',\n",
    "            'black', 'white', 'to', 'me']"
   ]
  },
  {
   "cell_type": "markdown",
   "id": "040a7acd",
   "metadata": {},
   "source": [
    "### Probe Model"
   ]
  },
  {
   "cell_type": "code",
   "execution_count": 15,
   "id": "b34e6418",
   "metadata": {},
   "outputs": [],
   "source": [
    "linear_probe = nn.Linear(11552, len(keywords)).cuda() \n",
    "\n",
    "mlp_probe = nn.Sequential(\n",
    "    nn.Linear(11552, 512),\n",
    "    nn.ReLU(),\n",
    "    nn.Linear(512, len(keywords))).cuda()\n",
    "\n",
    "probe_model = linear_probe"
   ]
  },
  {
   "cell_type": "markdown",
   "id": "88ca14e2",
   "metadata": {},
   "source": [
    "### Training/Testing"
   ]
  },
  {
   "cell_type": "code",
   "execution_count": 16,
   "id": "1a92dd48",
   "metadata": {},
   "outputs": [],
   "source": [
    "annotations.sort(key = lambda ant : ant['f_name'])\n",
    "train_ants = annotations[:int(len(annotations)*0.8)]\n",
    "test_ants = annotations[int(len(annotations)*0.8):]\n",
    "train_dataset = SevenPlaneBoWDataset(train_ants, keywords)\n",
    "test_dataset = SevenPlaneBoWDataset(test_ants, keywords)\n",
    "train_loader = DataLoader(train_dataset, batch_size=64, shuffle=True)\n",
    "test_loader = DataLoader(test_dataset, batch_size=64, shuffle=False)"
   ]
  },
  {
   "cell_type": "code",
   "execution_count": 17,
   "id": "4f742534",
   "metadata": {},
   "outputs": [],
   "source": [
    "def train(epoch):\n",
    "    probe_model.train()\n",
    "    for step, (svp, label) in enumerate(tqdm(train_loader)):\n",
    "        svp = svp.type(torch.FloatTensor).cuda()\n",
    "        label = label.cuda()\n",
    "        representation = go_repr(svp).detach()\n",
    "        pred = probe_model(representation)  \n",
    "        loss = criterion(pred, label)\n",
    "        loss.backward()\n",
    "        optimizer.step()\n",
    "        optimizer.zero_grad()\n",
    "        logger.add_scalar('Loss/train', loss.data.item(), step + epoch*len(train_loader))\n",
    "    \n",
    "def evaluate(epoch):\n",
    "    probe_model.eval()\n",
    "    epoch_loss = 0\n",
    "    for step, (svp, label) in enumerate(tqdm(test_loader)):\n",
    "        svp = svp.type(torch.FloatTensor).cuda()\n",
    "        label = label.cuda()\n",
    "        representation = go_repr(svp).detach()\n",
    "        pred = probe_model(representation)  \n",
    "        loss = criterion(pred, label)\n",
    "        epoch_loss += loss.data.item()\n",
    "    logger.add_scalar('Loss/test', epoch_loss, epoch)\n",
    "    return epoch_loss\n",
    "\n",
    "def save_checkpoint(state, save_path):\n",
    "    os.makedirs(os.path.dirname(save_path), exist_ok=True)\n",
    "    torch.save(state, save_path)"
   ]
  },
  {
   "cell_type": "code",
   "execution_count": 18,
   "id": "b7f10458",
   "metadata": {},
   "outputs": [],
   "source": [
    "exp_name = 'linear_probe'\n",
    "num_epochs = 2\n",
    "criterion = nn.BCEWithLogitsLoss()\n",
    "optimizer = optim.Adam(probe_model.parameters())\n",
    "logger = SummaryWriter(os.path.join('exp_log', exp_name))\n",
    "ckpt_dir = os.path.join('probe_ckpts', exp_name)"
   ]
  },
  {
   "cell_type": "code",
   "execution_count": 32,
   "id": "e36851b1",
   "metadata": {},
   "outputs": [
    {
     "data": {
      "text/plain": [
       "tensor([1.], device='cuda:0', dtype=torch.float64)"
      ]
     },
     "execution_count": 32,
     "metadata": {},
     "output_type": "execute_result"
    }
   ],
   "source": [
    "torch.from_numpy(np.ones(1)).cuda().detach().detach()"
   ]
  },
  {
   "cell_type": "code",
   "execution_count": 19,
   "id": "2595644d",
   "metadata": {
    "scrolled": true
   },
   "outputs": [
    {
     "name": "stderr",
     "output_type": "stream",
     "text": [
      "100%|█████████████████████████████████████████████████████████████████████████████████████████████████████████████████| 2926/2926 [06:34<00:00,  7.42it/s]\n",
      "100%|███████████████████████████████████████████████████████████████████████████████████████████████████████████████████| 732/732 [02:08<00:00,  5.68it/s]\n",
      "  0%|                                                                                                                            | 0/2926 [00:00<?, ?it/s]"
     ]
    },
    {
     "name": "stdout",
     "output_type": "stream",
     "text": [
      "[EVAL] epoch loss 210.682509\n",
      "[EVAL] new best ckpt\n"
     ]
    },
    {
     "name": "stderr",
     "output_type": "stream",
     "text": [
      "100%|█████████████████████████████████████████████████████████████████████████████████████████████████████████████████| 2926/2926 [08:45<00:00,  5.56it/s]\n",
      "100%|███████████████████████████████████████████████████████████████████████████████████████████████████████████████████| 732/732 [02:02<00:00,  5.98it/s]"
     ]
    },
    {
     "name": "stdout",
     "output_type": "stream",
     "text": [
      "[EVAL] epoch loss 211.365305\n"
     ]
    },
    {
     "name": "stderr",
     "output_type": "stream",
     "text": [
      "\n"
     ]
    }
   ],
   "source": [
    "best_loss = 1e10\n",
    "for epoch in range(num_epochs):\n",
    "    train(epoch)\n",
    "    loss = evaluate(epoch)\n",
    "    print('[EVAL] epoch loss %f' % loss)\n",
    "    if loss < best_loss:\n",
    "        print('[EVAL] new best ckpt')\n",
    "        best_loss = loss\n",
    "        save_checkpoint({\n",
    "            'epoch':epoch,\n",
    "            'state_dict':probe_model.state_dict(),\n",
    "            'optimizer':optimizer.state_dict()\n",
    "            }, os.path.join(ckpt_dir, 'best.ckpt'))\n",
    "    save_checkpoint({\n",
    "        'epoch':epoch,\n",
    "        'state_dict':probe_model.state_dict(),\n",
    "        'optimizer':optimizer.state_dict()\n",
    "        }, os.path.join(ckpt_dir, 'epoch%d.ckpt' % epoch))"
   ]
  },
  {
   "cell_type": "code",
   "execution_count": 11,
   "id": "e3c65399",
   "metadata": {},
   "outputs": [
    {
     "data": {
      "text/plain": [
       "<All keys matched successfully>"
      ]
     },
     "execution_count": 11,
     "metadata": {},
     "output_type": "execute_result"
    }
   ],
   "source": [
    "best_ckpt = torch.load(os.path.join(ckpt_dir, 'best.ckpt'))\n",
    "probe_model.load_state_dict(best_ckpt['state_dict'])"
   ]
  },
  {
   "cell_type": "markdown",
   "id": "6ce25da1",
   "metadata": {},
   "source": [
    "### Probe Evaluation"
   ]
  },
  {
   "cell_type": "code",
   "execution_count": 20,
   "id": "d47dd099",
   "metadata": {},
   "outputs": [
    {
     "name": "stderr",
     "output_type": "stream",
     "text": [
      "100%|███████████████████████████████████████████████████████████████████████████████████████████████████████████████████| 732/732 [01:28<00:00,  8.27it/s]\n"
     ]
    }
   ],
   "source": [
    "pred_ls, label_ls = [], []\n",
    "for svp, label in tqdm(test_loader):\n",
    "    svp = svp.type(torch.FloatTensor).cuda()\n",
    "    label = label.cuda()\n",
    "    representation = go_repr(svp).detach()\n",
    "    pred = probe_model(representation)  \n",
    "    pred_ls.append(pred.detach().cpu().numpy())\n",
    "    label_ls.append(label.detach().cpu().numpy())\n",
    "preds = np.concatenate(pred_ls, axis=0)\n",
    "labels = np.concatenate(label_ls, axis=0)"
   ]
  },
  {
   "cell_type": "code",
   "execution_count": 22,
   "id": "1e2e6fba",
   "metadata": {},
   "outputs": [
    {
     "data": {
      "image/png": "[encoded data removed]",
      "text/plain": [
       "<Figure size 1080x648 with 15 Axes>"
      ]
     },
     "metadata": {
      "needs_background": "light"
     },
     "output_type": "display_data"
    }
   ],
   "source": [
    "from sklearn.metrics import roc_curve\n",
    "import matplotlib.pyplot as plt\n",
    "from math import ceil\n",
    "\n",
    "cols, rows = 5, ceil(len(keywords)/5)\n",
    "plt.rcParams['figure.figsize'] = (3*cols, 3*rows)\n",
    "fig, axs = plt.subplots(rows, cols)\n",
    "fig.subplots_adjust(hspace=0.5)\n",
    "\n",
    "for kw in range(len(keywords)):\n",
    "    kw_preds, kw_labels = preds[:,kw], labels[:,kw]\n",
    "    fprs, tprs, _ = roc_curve(kw_labels, kw_preds)\n",
    "    axs[kw//cols][kw%cols].plot(fprs, tprs)\n",
    "    axs[kw//cols][kw%cols].set_title(keywords[kw])"
   ]
  }
 ],
 "metadata": {
  "kernelspec": {
   "display_name": "Python 3",
   "language": "python",
   "name": "python3"
  },
  "language_info": {
   "codemirror_mode": {
    "name": "ipython",
    "version": 3
   },
   "file_extension": ".py",
   "mimetype": "text/x-python",
   "name": "python",
   "nbconvert_exporter": "python",
   "pygments_lexer": "ipython3",
   "version": "3.6.12"
  }
 },
 "nbformat": 4,
 "nbformat_minor": 5
}
