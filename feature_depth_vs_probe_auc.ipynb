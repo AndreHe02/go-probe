{
 "cells": [
  {
   "cell_type": "code",
   "execution_count": 1,
   "id": "6ecf513c",
   "metadata": {},
   "outputs": [],
   "source": [
    "import numpy as np\n",
    "import pickle as pkl\n",
    "import torch\n",
    "import torch.nn as nn\n",
    "import os\n",
    "import torch.optim as optim\n",
    "from probe_experiment import ProbeExperiment\n",
    "from sklearn.metrics import roc_curve, roc_auc_score\n",
    "import matplotlib.pyplot as plt"
   ]
  },
  {
   "cell_type": "code",
   "execution_count": 2,
   "id": "12eee6eb",
   "metadata": {},
   "outputs": [],
   "source": [
    "with open('data/filtered_annotations.pkl', 'rb') as file:\n",
    "    annotations = pkl.load(file)\n",
    "annotations.sort(key = lambda ant : ant['f_name'])\n",
    "\n",
    "train_ants = annotations[:int(len(annotations)*0.8)]\n",
    "test_ants = annotations[int(len(annotations)*0.8):]\n",
    "\n",
    "keywords = ['territory', 'cut', 'sente', 'shape', 'moyo',\n",
    "            'ko', 'invasion', 'influence', 'wall', 'eye']"
   ]
  },
  {
   "cell_type": "code",
   "execution_count": 3,
   "id": "3ac94186",
   "metadata": {},
   "outputs": [
    {
     "data": {
      "text/plain": [
       "<All keys matched successfully>"
      ]
     },
     "execution_count": 3,
     "metadata": {},
     "output_type": "execute_result"
    }
   ],
   "source": [
    "from go_model import GoModel\n",
    "go_model = GoModel(None)\n",
    "checkpoint = torch.load('model_ckpt.pth.tar', map_location=torch.device('cuda'))\n",
    "state_dict = checkpoint['state_dict']\n",
    "state_dict = {key[7:]:state_dict[key] for key in state_dict} #remove 'module.' prefix\n",
    "go_model.load_state_dict(state_dict)"
   ]
  },
  {
   "cell_type": "code",
   "execution_count": 4,
   "id": "64bd1ed3",
   "metadata": {},
   "outputs": [],
   "source": [
    "def cut_model(model, cut_at_layer):\n",
    "    class CutModel(nn.Module):\n",
    "        def __init__(self, model, cut):\n",
    "            super(CutModel, self).__init__()\n",
    "            self.convs = model.convs[:cut]\n",
    "            self.nonlinear = model.nonlinear\n",
    "            self.cut = cut\n",
    "        \n",
    "        def forward(self, x):\n",
    "            for i in range(self.cut):\n",
    "                x = self.convs[i](x)\n",
    "                x = self.nonlinear(x)\n",
    "            return nn.Flatten()(x)\n",
    "    return CutModel(model, cut_at_layer)\n",
    "\n",
    "models = [cut_model(go_model, i) for i in range(8)]"
   ]
  },
  {
   "cell_type": "code",
   "execution_count": 5,
   "id": "ea95f780",
   "metadata": {},
   "outputs": [],
   "source": [
    "layer_n_channels = [8, 64, 64, 64, 48, 48, 32]\n",
    "layer_dims = [n*19*19 for n in layer_n_channels]\n",
    "probe_models = [nn.Linear(dim, len(keywords)).cuda() for dim in layer_dims]"
   ]
  },
  {
   "cell_type": "code",
   "execution_count": 6,
   "id": "9510c1f0",
   "metadata": {},
   "outputs": [],
   "source": [
    "exp = ProbeExperiment(train_ants, test_ants, keywords)"
   ]
  },
  {
   "cell_type": "code",
   "execution_count": null,
   "id": "0c2de624",
   "metadata": {},
   "outputs": [
    {
     "name": "stderr",
     "output_type": "stream",
     "text": [
      " 22%|█████████████████████████▌                                                                                        | 656/2926 [01:06<03:59,  9.46it/s]"
     ]
    }
   ],
   "source": [
    "preds = []\n",
    "\n",
    "for i in range(8):\n",
    "    feat_model = models[i]\n",
    "    probe_model = probe_models[i]\n",
    "    \n",
    "    criterion = nn.BCEWithLogitsLoss()\n",
    "    optimizer = optim.Adam(probe_model.parameters())\n",
    "    \n",
    "    exp.run('depth%d_probe'%i, feat_model, probe_model, criterion, optimizer, batch_size=64, num_epochs=2)\n",
    "    preds_, labels = exp.test_inference(feat_model, probe_model)\n",
    "    preds.append(preds_)"
   ]
  },
  {
   "cell_type": "code",
   "execution_count": null,
   "id": "cbd3260a",
   "metadata": {},
   "outputs": [],
   "source": []
  }
 ],
 "metadata": {
  "kernelspec": {
   "display_name": "Python 3",
   "language": "python",
   "name": "python3"
  },
  "language_info": {
   "codemirror_mode": {
    "name": "ipython",
    "version": 3
   },
   "file_extension": ".py",
   "mimetype": "text/x-python",
   "name": "python",
   "nbconvert_exporter": "python",
   "pygments_lexer": "ipython3",
   "version": "3.6.12"
  }
 },
 "nbformat": 4,
 "nbformat_minor": 5
}
