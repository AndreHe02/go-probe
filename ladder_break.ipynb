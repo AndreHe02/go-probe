{
 "cells": [
  {
   "cell_type": "code",
   "execution_count": 1,
   "metadata": {},
   "outputs": [],
   "source": [
    "from probe_experiment import *\n",
    "from handcrafted_datasets import Dataset\n",
    "from models import *\n",
    "import torch\n",
    "import torch.nn as nn\n",
    "from sklearn.metrics import roc_curve, roc_auc_score"
   ]
  },
  {
   "cell_type": "code",
   "execution_count": 2,
   "metadata": {},
   "outputs": [
    {
     "name": "stdout",
     "output_type": "stream",
     "text": [
      "done loading data\n",
      "split sizes:\n",
      "train 552\n",
      "test 138\n"
     ]
    }
   ],
   "source": [
    "dataset = Dataset('ladders', 'C:\\\\Users\\\\andre\\\\go-ai\\\\data', 0.8, 0.2, 1024)\n",
    "dataset.shuffle('train')\n",
    "train_loader =  dataset.loader('train', max_ram_files=25)\n",
    "test_loader = dataset.loader('test', max_ram_files=25)"
   ]
  },
  {
   "cell_type": "code",
   "execution_count": 3,
   "metadata": {},
   "outputs": [],
   "source": [
    "import numpy as np\n",
    "Xls, yls = [], []\n",
    "for X, y in train_loader:\n",
    "    ladder_idxs = []\n",
    "    y = y.numpy()\n",
    "    X = X.numpy()\n",
    "    for i, y_ in enumerate(y):\n",
    "        if np.any(y_):\n",
    "            ladder_idxs.append(i)\n",
    "    Xls.append(X[ladder_idxs])\n",
    "    yls.append(y[ladder_idxs])\n",
    "X_train = np.concatenate(Xls, axis=0)\n",
    "y_train = np.concatenate(yls, axis=0)"
   ]
  },
  {
   "cell_type": "code",
   "execution_count": 4,
   "metadata": {},
   "outputs": [],
   "source": [
    "import numpy as np\n",
    "Xls, yls = [], []\n",
    "for X, y in test_loader:\n",
    "    ladder_idxs = []\n",
    "    y = y.numpy()\n",
    "    X = X.numpy()\n",
    "    for i, y_ in enumerate(y):\n",
    "        if np.any(y_):\n",
    "            ladder_idxs.append(i)\n",
    "    Xls.append(X[ladder_idxs])\n",
    "    yls.append(y[ladder_idxs])\n",
    "X_test = np.concatenate(Xls, axis=0)\n",
    "y_test = np.concatenate(yls, axis=0)"
   ]
  },
  {
   "cell_type": "code",
   "execution_count": 5,
   "metadata": {},
   "outputs": [
    {
     "data": {
      "text/plain": [
       "92711"
      ]
     },
     "execution_count": 5,
     "metadata": {},
     "output_type": "execute_result"
    }
   ],
   "source": [
    "len(X_train)"
   ]
  },
  {
   "cell_type": "code",
   "execution_count": 6,
   "metadata": {},
   "outputs": [],
   "source": [
    "from torch.utils.data import DataLoader\n",
    "\n",
    "def get_train_loader():\n",
    "    return DataLoader(list(zip(X_train, y_train)), batch_size=512, shuffle=True)\n",
    "\n",
    "def get_test_loader():\n",
    "    return DataLoader(list(zip(X_test, y_test)), batch_size=512, shuffle=False)"
   ]
  },
  {
   "cell_type": "code",
   "execution_count": 7,
   "metadata": {},
   "outputs": [],
   "source": [
    "def ladder_pos_only_loss(pred, target):\n",
    "    bceloss = torch.nn.BCEWithLogitsLoss(reduction='none')(pred, target[:,1:2])\n",
    "    bceloss = bceloss * target[:, 0]\n",
    "    return bceloss.mean()\n",
    "\n",
    "criterion = ladder_pos_only_loss #torch.nn.BCEWithLogitsLoss()"
   ]
  },
  {
   "cell_type": "code",
   "execution_count": 8,
   "metadata": {},
   "outputs": [],
   "source": [
    "go_model = load_go_model_from_ckpt('model_ckpt.pth.tar', rm_prefix=True)\n",
    "feat_models = [CutModel(go_model, i).cuda() for i in range(8)]\n",
    "n_channels = [8, 64, 64, 64, 48, 48, 32, 32]\n",
    "probe_models = [nn.Sequential(nn.Conv2d(nc, 1, 19, padding=9)).cuda() for nc in n_channels]"
   ]
  },
  {
   "cell_type": "code",
   "execution_count": 9,
   "metadata": {
    "scrolled": false
   },
   "outputs": [
    {
     "name": "stdout",
     "output_type": "stream",
     "text": [
      "probing at depth 0\n",
      "[LOG] epoch 0 loss 0.000469, new best\n",
      "[LOG] epoch 1 loss 0.000480\n",
      "[LOG] epoch 2 loss 0.000467, new best\n",
      "[LOG] epoch 3 loss 0.000446, new best\n",
      "[LOG] epoch 4 loss 0.000426, new best\n",
      "[LOG] epoch 5 loss 0.000405, new best\n",
      "[LOG] epoch 6 loss 0.000387, new best\n",
      "[LOG] epoch 7 loss 0.000367, new best\n",
      "[LOG] epoch 8 loss 0.000348, new best\n",
      "[LOG] epoch 9 loss 0.000334, new best\n",
      "[LOG] epoch 10 loss 0.000318, new best\n",
      "[LOG] epoch 11 loss 0.000305, new best\n",
      "[LOG] epoch 12 loss 0.000294, new best\n",
      "[LOG] epoch 13 loss 0.000281, new best\n",
      "[LOG] epoch 14 loss 0.000274, new best\n",
      "[LOG] epoch 15 loss 0.000264, new best\n",
      "[LOG] epoch 16 loss 0.000257, new best\n",
      "[LOG] epoch 17 loss 0.000249, new best\n",
      "[LOG] epoch 18 loss 0.000247, new best\n",
      "[LOG] epoch 19 loss 0.000241, new best\n",
      "0.48077478588334255\n",
      "probing at depth 1\n",
      "[LOG] epoch 0 loss 0.000522, new best\n",
      "[LOG] epoch 1 loss 0.000358, new best\n",
      "[LOG] epoch 2 loss 0.000304, new best\n",
      "[LOG] epoch 3 loss 0.000272, new best\n",
      "[LOG] epoch 4 loss 0.000251, new best\n",
      "[LOG] epoch 5 loss 0.000233, new best\n",
      "[LOG] epoch 6 loss 0.000223, new best\n",
      "[LOG] epoch 7 loss 0.000215, new best\n",
      "[LOG] epoch 8 loss 0.000209, new best\n",
      "[LOG] epoch 9 loss 0.000203, new best\n",
      "[LOG] epoch 10 loss 0.000203\n",
      "[LOG] epoch 11 loss 0.000198, new best\n",
      "[LOG] epoch 12 loss 0.000198, new best\n",
      "[LOG] epoch 13 loss 0.000197, new best\n",
      "[LOG] epoch 14 loss 0.000195, new best\n",
      "[LOG] epoch 15 loss 0.000194, new best\n",
      "[LOG] epoch 16 loss 0.000193, new best\n",
      "[LOG] epoch 17 loss 0.000190, new best\n",
      "[LOG] epoch 18 loss 0.000188, new best\n",
      "[LOG] epoch 19 loss 0.000192\n",
      "0.6691038885076286\n",
      "probing at depth 2\n",
      "[LOG] epoch 0 loss 0.000488, new best\n",
      "[LOG] epoch 1 loss 0.000360, new best\n",
      "[LOG] epoch 2 loss 0.000287, new best\n",
      "[LOG] epoch 3 loss 0.000248, new best\n",
      "[LOG] epoch 4 loss 0.000222, new best\n",
      "[LOG] epoch 5 loss 0.000209, new best\n",
      "[LOG] epoch 6 loss 0.000200, new best\n",
      "[LOG] epoch 7 loss 0.000192, new best\n",
      "[LOG] epoch 8 loss 0.000189, new best\n",
      "[LOG] epoch 9 loss 0.000186, new best\n",
      "[LOG] epoch 10 loss 0.000184, new best\n",
      "[LOG] epoch 11 loss 0.000180, new best\n",
      "[LOG] epoch 12 loss 0.000176, new best\n",
      "[LOG] epoch 13 loss 0.000179\n",
      "[LOG] epoch 14 loss 0.000180\n",
      "[LOG] epoch 15 loss 0.000178\n",
      "[LOG] epoch 16 loss 0.000179\n",
      "[LOG] epoch 17 loss 0.000178\n",
      "[LOG] epoch 18 loss 0.000174, new best\n",
      "[LOG] epoch 19 loss 0.000176\n",
      "0.7242851150558869\n",
      "probing at depth 3\n",
      "[LOG] epoch 0 loss 0.000399, new best\n",
      "[LOG] epoch 1 loss 0.000292, new best\n",
      "[LOG] epoch 2 loss 0.000254, new best\n",
      "[LOG] epoch 3 loss 0.000228, new best\n",
      "[LOG] epoch 4 loss 0.000222, new best\n",
      "[LOG] epoch 5 loss 0.000217, new best\n",
      "[LOG] epoch 6 loss 0.000214, new best\n",
      "[LOG] epoch 7 loss 0.000210, new best\n",
      "[LOG] epoch 8 loss 0.000211\n",
      "[LOG] epoch 9 loss 0.000214\n",
      "[LOG] epoch 10 loss 0.000205, new best\n",
      "[LOG] epoch 11 loss 0.000206\n",
      "[LOG] epoch 12 loss 0.000204, new best\n",
      "[LOG] epoch 13 loss 0.000211\n",
      "[LOG] epoch 14 loss 0.000210\n",
      "[LOG] epoch 15 loss 0.000207\n",
      "[LOG] epoch 16 loss 0.000213\n",
      "[LOG] epoch 17 loss 0.000215\n",
      "[LOG] epoch 18 loss 0.000202, new best\n",
      "[LOG] epoch 19 loss 0.000206\n",
      "0.7131646649800254\n",
      "probing at depth 4\n",
      "[LOG] epoch 0 loss 0.000471, new best\n",
      "[LOG] epoch 1 loss 0.000373, new best\n",
      "[LOG] epoch 2 loss 0.000320, new best\n",
      "[LOG] epoch 3 loss 0.000293, new best\n",
      "[LOG] epoch 4 loss 0.000276, new best\n",
      "[LOG] epoch 5 loss 0.000271, new best\n",
      "[LOG] epoch 6 loss 0.000263, new best\n",
      "[LOG] epoch 7 loss 0.000258, new best\n",
      "[LOG] epoch 8 loss 0.000257, new best\n",
      "[LOG] epoch 9 loss 0.000260\n",
      "[LOG] epoch 10 loss 0.000265\n",
      "[LOG] epoch 11 loss 0.000260\n",
      "[LOG] epoch 12 loss 0.000255, new best\n",
      "[LOG] epoch 13 loss 0.000261\n",
      "[LOG] epoch 14 loss 0.000263\n",
      "[LOG] epoch 15 loss 0.000272\n",
      "[LOG] epoch 16 loss 0.000270\n",
      "[LOG] epoch 17 loss 0.000271\n",
      "[LOG] epoch 18 loss 0.000264\n",
      "[LOG] epoch 19 loss 0.000269\n",
      "0.6241885165241385\n",
      "probing at depth 5\n",
      "[LOG] epoch 0 loss 0.000491, new best\n",
      "[LOG] epoch 1 loss 0.000445, new best\n",
      "[LOG] epoch 2 loss 0.000409, new best\n",
      "[LOG] epoch 3 loss 0.000388, new best\n",
      "[LOG] epoch 4 loss 0.000372, new best\n",
      "[LOG] epoch 5 loss 0.000356, new best\n",
      "[LOG] epoch 6 loss 0.000344, new best\n",
      "[LOG] epoch 7 loss 0.000334, new best\n",
      "[LOG] epoch 8 loss 0.000328, new best\n",
      "[LOG] epoch 9 loss 0.000321, new best\n",
      "[LOG] epoch 10 loss 0.000319, new best\n",
      "[LOG] epoch 11 loss 0.000314, new best\n",
      "[LOG] epoch 12 loss 0.000315\n",
      "[LOG] epoch 13 loss 0.000312, new best\n",
      "[LOG] epoch 14 loss 0.000308, new best\n",
      "[LOG] epoch 15 loss 0.000311\n",
      "[LOG] epoch 16 loss 0.000310\n",
      "[LOG] epoch 17 loss 0.000312\n",
      "[LOG] epoch 18 loss 0.000317\n",
      "[LOG] epoch 19 loss 0.000320\n",
      "0.6035387050050686\n",
      "probing at depth 6\n",
      "[LOG] epoch 0 loss 0.000448, new best\n",
      "[LOG] epoch 1 loss 0.000481\n",
      "[LOG] epoch 2 loss 0.000483\n",
      "[LOG] epoch 3 loss 0.000471\n",
      "[LOG] epoch 4 loss 0.000458\n",
      "[LOG] epoch 5 loss 0.000450\n",
      "[LOG] epoch 6 loss 0.000443, new best\n",
      "[LOG] epoch 7 loss 0.000435, new best\n",
      "[LOG] epoch 8 loss 0.000427, new best\n",
      "[LOG] epoch 9 loss 0.000419, new best\n",
      "[LOG] epoch 10 loss 0.000413, new best\n",
      "[LOG] epoch 11 loss 0.000408, new best\n",
      "[LOG] epoch 12 loss 0.000400, new best\n",
      "[LOG] epoch 13 loss 0.000395, new best\n",
      "[LOG] epoch 14 loss 0.000389, new best\n",
      "[LOG] epoch 15 loss 0.000383, new best\n",
      "[LOG] epoch 16 loss 0.000380, new best\n",
      "[LOG] epoch 17 loss 0.000374, new best\n",
      "[LOG] epoch 18 loss 0.000372, new best\n",
      "[LOG] epoch 19 loss 0.000367, new best\n",
      "0.5758321771053245\n",
      "probing at depth 7\n",
      "[LOG] epoch 0 loss 0.000380, new best\n",
      "[LOG] epoch 1 loss 0.000420\n",
      "[LOG] epoch 2 loss 0.000447\n",
      "[LOG] epoch 3 loss 0.000461\n",
      "[LOG] epoch 4 loss 0.000468\n",
      "[LOG] epoch 5 loss 0.000471\n",
      "[LOG] epoch 6 loss 0.000469\n",
      "[LOG] epoch 7 loss 0.000465\n",
      "[LOG] epoch 8 loss 0.000461\n",
      "[LOG] epoch 9 loss 0.000456\n",
      "[LOG] epoch 10 loss 0.000451\n",
      "[LOG] epoch 11 loss 0.000446\n",
      "[LOG] epoch 12 loss 0.000440\n",
      "[LOG] epoch 13 loss 0.000434\n",
      "[LOG] epoch 14 loss 0.000428\n",
      "[LOG] epoch 15 loss 0.000424\n",
      "[LOG] epoch 16 loss 0.000419\n",
      "[LOG] epoch 17 loss 0.000415\n",
      "[LOG] epoch 18 loss 0.000409\n",
      "[LOG] epoch 19 loss 0.000404\n",
      "0.32665963844589563\n"
     ]
    }
   ],
   "source": [
    "aucs = []\n",
    "for depth in range(0, 8):\n",
    "    print('probing at depth %d' % depth)\n",
    "    feat_model = feat_models[depth]\n",
    "    probe_model = probe_models[depth]\n",
    "    exp = ProbeExperiment(get_train_loader, get_test_loader, feat_model)\n",
    "    config = {'name':'ladders/ladder_break_d%d'%depth, 'write_log':True, 'progress_bar':False, 'save_ckpt':False}\n",
    "    optimizer = torch.optim.Adam(probe_model.parameters())\n",
    "    exp.run(probe_model, criterion, optimizer, 20, config)\n",
    "    preds, labels = exp.get_predictions(probe_model, get_test_loader())\n",
    "    \n",
    "    ladder_idx = np.where(labels[:,0].flatten())\n",
    "    preds = preds.flatten()[ladder_idx]\n",
    "    labels = labels[:,1].flatten()[ladder_idx]\n",
    "    auc = roc_auc_score(labels, preds)\n",
    "    aucs.append(auc)\n",
    "    print(auc)"
   ]
  },
  {
   "cell_type": "code",
   "execution_count": 11,
   "metadata": {},
   "outputs": [
    {
     "data": {
      "text/plain": [
       "[<matplotlib.lines.Line2D at 0x1b2353a1b00>]"
      ]
     },
     "execution_count": 11,
     "metadata": {},
     "output_type": "execute_result"
    },
    {
     "data": {
      "image/png": "[encoded data removed]",
      "text/plain": [
       "<Figure size 432x288 with 1 Axes>"
      ]
     },
     "metadata": {
      "needs_background": "light"
     },
     "output_type": "display_data"
    }
   ],
   "source": [
    "import matplotlib.pyplot as plt\n",
    "plt.plot(aucs)"
   ]
  }
 ],
 "metadata": {
  "kernelspec": {
   "display_name": "Python 3",
   "language": "python",
   "name": "python3"
  },
  "language_info": {
   "codemirror_mode": {
    "name": "ipython",
    "version": 3
   },
   "file_extension": ".py",
   "mimetype": "text/x-python",
   "name": "python",
   "nbconvert_exporter": "python",
   "pygments_lexer": "ipython3",
   "version": "3.6.12"
  }
 },
 "nbformat": 4,
 "nbformat_minor": 5
}
