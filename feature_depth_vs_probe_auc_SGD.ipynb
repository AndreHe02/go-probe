{
 "cells": [
  {
   "cell_type": "code",
   "execution_count": 1,
   "id": "1ef70c85",
   "metadata": {},
   "outputs": [],
   "source": [
    "import numpy as np\n",
    "import pickle as pkl\n",
    "import torch\n",
    "import torch.nn as nn\n",
    "import os\n",
    "import torch.optim as optim\n",
    "from probe_experiment import ProbeExperiment\n",
    "from sklearn.metrics import roc_curve, roc_auc_score\n",
    "import matplotlib.pyplot as plt\n",
    "from math import ceil"
   ]
  },
  {
   "cell_type": "code",
   "execution_count": 2,
   "id": "a40640ad",
   "metadata": {},
   "outputs": [],
   "source": [
    "split = 0.8\n",
    "with open('data/filtered_annotations.pkl', 'rb') as file:\n",
    "    annotations = pkl.load(file)\n",
    "annotations.sort(key = lambda ant : ant['f_name'])\n",
    "train_ants = annotations[:int(len(annotations)*split)]\n",
    "test_ants = annotations[int(len(annotations)*split):]\n",
    "keywords = ['territory', 'cut', 'sente', 'shape', 'moyo',\n",
    "            'ko', 'invasion', 'influence', 'wall', 'eye']"
   ]
  },
  {
   "cell_type": "code",
   "execution_count": 3,
   "id": "67b3011c",
   "metadata": {},
   "outputs": [
    {
     "data": {
      "text/plain": [
       "<All keys matched successfully>"
      ]
     },
     "execution_count": 3,
     "metadata": {},
     "output_type": "execute_result"
    }
   ],
   "source": [
    "from go_model import GoModel\n",
    "go_model = GoModel(None)\n",
    "checkpoint = torch.load('model_ckpt.pth.tar', map_location=torch.device('cuda'))\n",
    "state_dict = checkpoint['state_dict']\n",
    "state_dict = {key[7:]:state_dict[key] for key in state_dict}\n",
    "go_model.load_state_dict(state_dict)"
   ]
  },
  {
   "cell_type": "code",
   "execution_count": 4,
   "id": "d2f4fb1c",
   "metadata": {},
   "outputs": [],
   "source": [
    "def cut_model(model, cut_at_layer):\n",
    "    class CutModel(nn.Module):\n",
    "        def __init__(self, model, cut):\n",
    "            super(CutModel, self).__init__()\n",
    "            self.convs = model.convs[:cut]\n",
    "            self.nonlinear = model.nonlinear\n",
    "            self.cut = cut\n",
    "        \n",
    "        def forward(self, x):\n",
    "            for i in range(self.cut):\n",
    "                x = self.convs[i](x)\n",
    "                x = self.nonlinear(x)\n",
    "            return nn.Flatten()(x)\n",
    "    return CutModel(model, cut_at_layer)\n",
    "\n",
    "models = [cut_model(go_model, i).cuda() for i in range(8)]"
   ]
  },
  {
   "cell_type": "code",
   "execution_count": 5,
   "id": "bc8d7a74",
   "metadata": {},
   "outputs": [],
   "source": [
    "layer_n_channels = [8, 64, 64, 64, 48, 48, 32, 32]\n",
    "layer_dims = [n*19*19 for n in layer_n_channels]\n",
    "probe_models = [nn.Linear(dim, len(keywords)).cuda() for dim in layer_dims]"
   ]
  },
  {
   "cell_type": "code",
   "execution_count": 6,
   "id": "0fce9111",
   "metadata": {},
   "outputs": [],
   "source": [
    "exp = ProbeExperiment(train_ants, test_ants, keywords)"
   ]
  },
  {
   "cell_type": "code",
   "execution_count": 7,
   "id": "2251b7bc",
   "metadata": {
    "scrolled": false
   },
   "outputs": [
    {
     "name": "stderr",
     "output_type": "stream",
     "text": [
      "100%|█████████████████████████████████████████████████████████████████████████████████████████████████████████████████| 2926/2926 [05:34<00:00,  8.76it/s]\n",
      "100%|███████████████████████████████████████████████████████████████████████████████████████████████████████████████████| 732/732 [01:16<00:00,  9.56it/s]\n",
      "  0%|                                                                                                                    | 1/2926 [00:00<07:12,  6.76it/s]"
     ]
    },
    {
     "name": "stdout",
     "output_type": "stream",
     "text": [
      "epoch 0 loss 0.160887\n",
      "new best ckpt\n"
     ]
    },
    {
     "name": "stderr",
     "output_type": "stream",
     "text": [
      "100%|█████████████████████████████████████████████████████████████████████████████████████████████████████████████████| 2926/2926 [05:19<00:00,  9.17it/s]\n",
      "100%|███████████████████████████████████████████████████████████████████████████████████████████████████████████████████| 732/732 [01:17<00:00,  9.39it/s]\n",
      "  0%|                                                                                                                    | 1/2926 [00:00<06:55,  7.04it/s]"
     ]
    },
    {
     "name": "stdout",
     "output_type": "stream",
     "text": [
      "epoch 1 loss 0.160694\n",
      "new best ckpt\n"
     ]
    },
    {
     "name": "stderr",
     "output_type": "stream",
     "text": [
      "100%|█████████████████████████████████████████████████████████████████████████████████████████████████████████████████| 2926/2926 [05:23<00:00,  9.05it/s]\n",
      "100%|███████████████████████████████████████████████████████████████████████████████████████████████████████████████████| 732/732 [01:19<00:00,  9.25it/s]\n",
      "  0%|                                                                                                                    | 1/2926 [00:00<05:51,  8.33it/s]"
     ]
    },
    {
     "name": "stdout",
     "output_type": "stream",
     "text": [
      "epoch 2 loss 0.160551\n",
      "new best ckpt\n"
     ]
    },
    {
     "name": "stderr",
     "output_type": "stream",
     "text": [
      "100%|█████████████████████████████████████████████████████████████████████████████████████████████████████████████████| 2926/2926 [05:26<00:00,  8.97it/s]\n",
      "100%|███████████████████████████████████████████████████████████████████████████████████████████████████████████████████| 732/732 [01:18<00:00,  9.31it/s]\n",
      "  0%|                                                                                                                    | 1/2926 [00:00<06:08,  7.93it/s]"
     ]
    },
    {
     "name": "stdout",
     "output_type": "stream",
     "text": [
      "epoch 3 loss 0.160431\n",
      "new best ckpt\n"
     ]
    },
    {
     "name": "stderr",
     "output_type": "stream",
     "text": [
      "100%|█████████████████████████████████████████████████████████████████████████████████████████████████████████████████| 2926/2926 [05:22<00:00,  9.07it/s]\n",
      "100%|███████████████████████████████████████████████████████████████████████████████████████████████████████████████████| 732/732 [01:18<00:00,  9.29it/s]\n",
      "  0%|▏                                                                                                                    | 1/732 [00:00<01:30,  8.06it/s]"
     ]
    },
    {
     "name": "stdout",
     "output_type": "stream",
     "text": [
      "epoch 4 loss 0.160310\n",
      "new best ckpt\n"
     ]
    },
    {
     "name": "stderr",
     "output_type": "stream",
     "text": [
      "100%|███████████████████████████████████████████████████████████████████████████████████████████████████████████████████| 732/732 [01:17<00:00,  9.46it/s]\n",
      "100%|█████████████████████████████████████████████████████████████████████████████████████████████████████████████████| 2926/2926 [05:27<00:00,  8.94it/s]\n",
      "100%|███████████████████████████████████████████████████████████████████████████████████████████████████████████████████| 732/732 [01:18<00:00,  9.36it/s]\n",
      "  0%|                                                                                                                    | 1/2926 [00:00<05:27,  8.93it/s]"
     ]
    },
    {
     "name": "stdout",
     "output_type": "stream",
     "text": [
      "epoch 0 loss 0.165156\n",
      "new best ckpt\n"
     ]
    },
    {
     "name": "stderr",
     "output_type": "stream",
     "text": [
      "100%|█████████████████████████████████████████████████████████████████████████████████████████████████████████████████| 2926/2926 [05:58<00:00,  8.16it/s]\n",
      "100%|███████████████████████████████████████████████████████████████████████████████████████████████████████████████████| 732/732 [01:45<00:00,  6.94it/s]\n",
      "  0%|                                                                                                                            | 0/2926 [00:00<?, ?it/s]"
     ]
    },
    {
     "name": "stdout",
     "output_type": "stream",
     "text": [
      "epoch 1 loss 0.161674\n",
      "new best ckpt\n"
     ]
    },
    {
     "name": "stderr",
     "output_type": "stream",
     "text": [
      "100%|█████████████████████████████████████████████████████████████████████████████████████████████████████████████████| 2926/2926 [07:45<00:00,  6.29it/s]\n",
      "100%|███████████████████████████████████████████████████████████████████████████████████████████████████████████████████| 732/732 [01:55<00:00,  6.33it/s]\n",
      "  0%|                                                                                                                            | 0/2926 [00:00<?, ?it/s]"
     ]
    },
    {
     "name": "stdout",
     "output_type": "stream",
     "text": [
      "epoch 2 loss 0.160375\n",
      "new best ckpt\n"
     ]
    },
    {
     "name": "stderr",
     "output_type": "stream",
     "text": [
      "100%|█████████████████████████████████████████████████████████████████████████████████████████████████████████████████| 2926/2926 [06:05<00:00,  8.00it/s]\n",
      "100%|███████████████████████████████████████████████████████████████████████████████████████████████████████████████████| 732/732 [01:21<00:00,  9.01it/s]\n",
      "  0%|                                                                                                                    | 1/2926 [00:00<06:11,  7.87it/s]"
     ]
    },
    {
     "name": "stdout",
     "output_type": "stream",
     "text": [
      "epoch 3 loss 0.159739\n",
      "new best ckpt\n"
     ]
    },
    {
     "name": "stderr",
     "output_type": "stream",
     "text": [
      "100%|█████████████████████████████████████████████████████████████████████████████████████████████████████████████████| 2926/2926 [05:34<00:00,  8.75it/s]\n",
      "100%|███████████████████████████████████████████████████████████████████████████████████████████████████████████████████| 732/732 [01:21<00:00,  8.95it/s]\n",
      "  0%|▏                                                                                                                    | 1/732 [00:00<01:29,  8.13it/s]"
     ]
    },
    {
     "name": "stdout",
     "output_type": "stream",
     "text": [
      "epoch 4 loss 0.159401\n",
      "new best ckpt\n"
     ]
    },
    {
     "name": "stderr",
     "output_type": "stream",
     "text": [
      "100%|███████████████████████████████████████████████████████████████████████████████████████████████████████████████████| 732/732 [01:22<00:00,  8.88it/s]\n",
      "100%|█████████████████████████████████████████████████████████████████████████████████████████████████████████████████| 2926/2926 [05:29<00:00,  8.89it/s]\n",
      "100%|███████████████████████████████████████████████████████████████████████████████████████████████████████████████████| 732/732 [01:20<00:00,  9.08it/s]\n",
      "  0%|                                                                                                                    | 1/2926 [00:00<06:19,  7.71it/s]"
     ]
    },
    {
     "name": "stdout",
     "output_type": "stream",
     "text": [
      "epoch 0 loss 0.165983\n",
      "new best ckpt\n"
     ]
    },
    {
     "name": "stderr",
     "output_type": "stream",
     "text": [
      "100%|█████████████████████████████████████████████████████████████████████████████████████████████████████████████████| 2926/2926 [05:34<00:00,  8.74it/s]\n",
      "100%|███████████████████████████████████████████████████████████████████████████████████████████████████████████████████| 732/732 [01:24<00:00,  8.70it/s]\n",
      "  0%|                                                                                                                    | 1/2926 [00:00<06:24,  7.61it/s]"
     ]
    },
    {
     "name": "stdout",
     "output_type": "stream",
     "text": [
      "epoch 1 loss 0.161154\n",
      "new best ckpt\n"
     ]
    },
    {
     "name": "stderr",
     "output_type": "stream",
     "text": [
      "100%|█████████████████████████████████████████████████████████████████████████████████████████████████████████████████| 2926/2926 [05:48<00:00,  8.40it/s]\n",
      "100%|███████████████████████████████████████████████████████████████████████████████████████████████████████████████████| 732/732 [01:25<00:00,  8.58it/s]\n",
      "  0%|                                                                                                                    | 1/2926 [00:00<07:07,  6.85it/s]"
     ]
    },
    {
     "name": "stdout",
     "output_type": "stream",
     "text": [
      "epoch 2 loss 0.159874\n",
      "new best ckpt\n"
     ]
    },
    {
     "name": "stderr",
     "output_type": "stream",
     "text": [
      "100%|█████████████████████████████████████████████████████████████████████████████████████████████████████████████████| 2926/2926 [05:49<00:00,  8.38it/s]\n",
      "100%|███████████████████████████████████████████████████████████████████████████████████████████████████████████████████| 732/732 [01:23<00:00,  8.79it/s]\n",
      "  0%|                                                                                                                    | 1/2926 [00:00<05:24,  9.01it/s]"
     ]
    },
    {
     "name": "stdout",
     "output_type": "stream",
     "text": [
      "epoch 3 loss 0.159352\n",
      "new best ckpt\n"
     ]
    },
    {
     "name": "stderr",
     "output_type": "stream",
     "text": [
      "100%|█████████████████████████████████████████████████████████████████████████████████████████████████████████████████| 2926/2926 [05:42<00:00,  8.54it/s]\n",
      "100%|███████████████████████████████████████████████████████████████████████████████████████████████████████████████████| 732/732 [01:26<00:00,  8.49it/s]\n",
      "  0%|▏                                                                                                                    | 1/732 [00:00<01:42,  7.14it/s]"
     ]
    },
    {
     "name": "stdout",
     "output_type": "stream",
     "text": [
      "epoch 4 loss 0.159052\n",
      "new best ckpt\n"
     ]
    },
    {
     "name": "stderr",
     "output_type": "stream",
     "text": [
      "100%|███████████████████████████████████████████████████████████████████████████████████████████████████████████████████| 732/732 [01:24<00:00,  8.65it/s]\n",
      "100%|█████████████████████████████████████████████████████████████████████████████████████████████████████████████████| 2926/2926 [05:45<00:00,  8.46it/s]\n",
      "100%|███████████████████████████████████████████████████████████████████████████████████████████████████████████████████| 732/732 [01:23<00:00,  8.76it/s]\n",
      "  0%|                                                                                                                    | 1/2926 [00:00<06:05,  7.99it/s]"
     ]
    },
    {
     "name": "stdout",
     "output_type": "stream",
     "text": [
      "epoch 0 loss 0.160617\n",
      "new best ckpt\n"
     ]
    },
    {
     "name": "stderr",
     "output_type": "stream",
     "text": [
      "100%|█████████████████████████████████████████████████████████████████████████████████████████████████████████████████| 2926/2926 [05:43<00:00,  8.51it/s]\n",
      "100%|███████████████████████████████████████████████████████████████████████████████████████████████████████████████████| 732/732 [01:25<00:00,  8.59it/s]\n",
      "  0%|                                                                                                                    | 1/2926 [00:00<05:59,  8.14it/s]"
     ]
    },
    {
     "name": "stdout",
     "output_type": "stream",
     "text": [
      "epoch 1 loss 0.159322\n",
      "new best ckpt\n"
     ]
    },
    {
     "name": "stderr",
     "output_type": "stream",
     "text": [
      "100%|███████████████████████████████████████████████████████████████████████████████████████████████████████████████| 2926/2926 [8:00:17<00:00,  9.85s/it]\n",
      "100%|███████████████████████████████████████████████████████████████████████████████████████████████████████████████████| 732/732 [01:24<00:00,  8.64it/s]\n",
      "  0%|                                                                                                                            | 0/2926 [00:00<?, ?it/s]"
     ]
    },
    {
     "name": "stdout",
     "output_type": "stream",
     "text": [
      "epoch 2 loss 0.158774\n",
      "new best ckpt\n"
     ]
    },
    {
     "name": "stderr",
     "output_type": "stream",
     "text": [
      "100%|█████████████████████████████████████████████████████████████████████████████████████████████████████████████████| 2926/2926 [06:01<00:00,  8.10it/s]\n",
      "100%|███████████████████████████████████████████████████████████████████████████████████████████████████████████████████| 732/732 [01:35<00:00,  7.65it/s]\n",
      "  0%|                                                                                                                    | 1/2926 [00:00<07:10,  6.80it/s]"
     ]
    },
    {
     "name": "stdout",
     "output_type": "stream",
     "text": [
      "epoch 3 loss 0.158464\n",
      "new best ckpt\n"
     ]
    },
    {
     "name": "stderr",
     "output_type": "stream",
     "text": [
      "100%|█████████████████████████████████████████████████████████████████████████████████████████████████████████████████| 2926/2926 [06:42<00:00,  7.27it/s]\n",
      "100%|███████████████████████████████████████████████████████████████████████████████████████████████████████████████████| 732/732 [01:39<00:00,  7.35it/s]\n",
      "  0%|                                                                                                                             | 0/732 [00:00<?, ?it/s]"
     ]
    },
    {
     "name": "stdout",
     "output_type": "stream",
     "text": [
      "epoch 4 loss 0.158214\n",
      "new best ckpt\n"
     ]
    },
    {
     "name": "stderr",
     "output_type": "stream",
     "text": [
      "100%|███████████████████████████████████████████████████████████████████████████████████████████████████████████████████| 732/732 [01:34<00:00,  7.75it/s]\n",
      "100%|█████████████████████████████████████████████████████████████████████████████████████████████████████████████████| 2926/2926 [05:49<00:00,  8.36it/s]\n",
      "100%|███████████████████████████████████████████████████████████████████████████████████████████████████████████████████| 732/732 [01:24<00:00,  8.67it/s]\n",
      "  0%|                                                                                                                    | 1/2926 [00:00<07:08,  6.83it/s]"
     ]
    },
    {
     "name": "stdout",
     "output_type": "stream",
     "text": [
      "epoch 0 loss 0.165062\n",
      "new best ckpt\n"
     ]
    },
    {
     "name": "stderr",
     "output_type": "stream",
     "text": [
      "100%|█████████████████████████████████████████████████████████████████████████████████████████████████████████████████| 2926/2926 [05:44<00:00,  8.50it/s]\n",
      "100%|███████████████████████████████████████████████████████████████████████████████████████████████████████████████████| 732/732 [01:25<00:00,  8.56it/s]\n",
      "  0%|                                                                                                                    | 1/2926 [00:00<05:30,  8.85it/s]"
     ]
    },
    {
     "name": "stdout",
     "output_type": "stream",
     "text": [
      "epoch 1 loss 0.161895\n",
      "new best ckpt\n"
     ]
    },
    {
     "name": "stderr",
     "output_type": "stream",
     "text": [
      "100%|█████████████████████████████████████████████████████████████████████████████████████████████████████████████████| 2926/2926 [05:39<00:00,  8.62it/s]\n",
      "100%|███████████████████████████████████████████████████████████████████████████████████████████████████████████████████| 732/732 [01:25<00:00,  8.54it/s]\n",
      "  0%|                                                                                                                    | 1/2926 [00:00<06:32,  7.45it/s]"
     ]
    },
    {
     "name": "stdout",
     "output_type": "stream",
     "text": [
      "epoch 2 loss 0.160485\n",
      "new best ckpt\n"
     ]
    },
    {
     "name": "stderr",
     "output_type": "stream",
     "text": [
      "100%|█████████████████████████████████████████████████████████████████████████████████████████████████████████████████| 2926/2926 [05:46<00:00,  8.44it/s]\n",
      "100%|███████████████████████████████████████████████████████████████████████████████████████████████████████████████████| 732/732 [01:23<00:00,  8.82it/s]\n",
      "  0%|                                                                                                                    | 1/2926 [00:00<06:11,  7.87it/s]"
     ]
    },
    {
     "name": "stdout",
     "output_type": "stream",
     "text": [
      "epoch 3 loss 0.159676\n",
      "new best ckpt\n"
     ]
    },
    {
     "name": "stderr",
     "output_type": "stream",
     "text": [
      "100%|█████████████████████████████████████████████████████████████████████████████████████████████████████████████████| 2926/2926 [05:48<00:00,  8.39it/s]\n",
      "100%|███████████████████████████████████████████████████████████████████████████████████████████████████████████████████| 732/732 [01:25<00:00,  8.57it/s]\n",
      "  0%|▏                                                                                                                    | 1/732 [00:00<01:44,  6.99it/s]"
     ]
    },
    {
     "name": "stdout",
     "output_type": "stream",
     "text": [
      "epoch 4 loss 0.159151\n",
      "new best ckpt\n"
     ]
    },
    {
     "name": "stderr",
     "output_type": "stream",
     "text": [
      "100%|███████████████████████████████████████████████████████████████████████████████████████████████████████████████████| 732/732 [01:22<00:00,  8.89it/s]\n",
      "100%|█████████████████████████████████████████████████████████████████████████████████████████████████████████████████| 2926/2926 [05:41<00:00,  8.58it/s]\n",
      "100%|███████████████████████████████████████████████████████████████████████████████████████████████████████████████████| 732/732 [01:24<00:00,  8.66it/s]\n",
      "  0%|                                                                                                                    | 1/2926 [00:00<06:19,  7.72it/s]"
     ]
    },
    {
     "name": "stdout",
     "output_type": "stream",
     "text": [
      "epoch 0 loss 0.174602\n",
      "new best ckpt\n"
     ]
    },
    {
     "name": "stderr",
     "output_type": "stream",
     "text": [
      "100%|█████████████████████████████████████████████████████████████████████████████████████████████████████████████████| 2926/2926 [05:45<00:00,  8.47it/s]\n",
      "100%|███████████████████████████████████████████████████████████████████████████████████████████████████████████████████| 732/732 [01:27<00:00,  8.34it/s]\n",
      "  0%|                                                                                                                    | 1/2926 [00:00<06:14,  7.81it/s]"
     ]
    },
    {
     "name": "stdout",
     "output_type": "stream",
     "text": [
      "epoch 1 loss 0.167146\n",
      "new best ckpt\n"
     ]
    },
    {
     "name": "stderr",
     "output_type": "stream",
     "text": [
      "100%|█████████████████████████████████████████████████████████████████████████████████████████████████████████████████| 2926/2926 [05:53<00:00,  8.28it/s]\n",
      "100%|███████████████████████████████████████████████████████████████████████████████████████████████████████████████████| 732/732 [01:23<00:00,  8.76it/s]\n",
      "  0%|                                                                                                                    | 1/2926 [00:00<06:05,  8.00it/s]"
     ]
    },
    {
     "name": "stdout",
     "output_type": "stream",
     "text": [
      "epoch 2 loss 0.164945\n",
      "new best ckpt\n"
     ]
    },
    {
     "name": "stderr",
     "output_type": "stream",
     "text": [
      "100%|█████████████████████████████████████████████████████████████████████████████████████████████████████████████████| 2926/2926 [05:47<00:00,  8.41it/s]\n",
      "100%|███████████████████████████████████████████████████████████████████████████████████████████████████████████████████| 732/732 [01:25<00:00,  8.59it/s]\n",
      "  0%|                                                                                                                    | 1/2926 [00:00<05:45,  8.48it/s]"
     ]
    },
    {
     "name": "stdout",
     "output_type": "stream",
     "text": [
      "epoch 3 loss 0.163748\n",
      "new best ckpt\n"
     ]
    },
    {
     "name": "stderr",
     "output_type": "stream",
     "text": [
      "100%|█████████████████████████████████████████████████████████████████████████████████████████████████████████████████| 2926/2926 [05:46<00:00,  8.44it/s]\n",
      "100%|███████████████████████████████████████████████████████████████████████████████████████████████████████████████████| 732/732 [01:25<00:00,  8.54it/s]\n",
      "  0%|▏                                                                                                                    | 1/732 [00:00<01:33,  7.81it/s]"
     ]
    },
    {
     "name": "stdout",
     "output_type": "stream",
     "text": [
      "epoch 4 loss 0.162922\n",
      "new best ckpt\n"
     ]
    },
    {
     "name": "stderr",
     "output_type": "stream",
     "text": [
      "100%|███████████████████████████████████████████████████████████████████████████████████████████████████████████████████| 732/732 [01:21<00:00,  8.96it/s]\n",
      "100%|█████████████████████████████████████████████████████████████████████████████████████████████████████████████████| 2926/2926 [05:43<00:00,  8.52it/s]\n",
      "100%|███████████████████████████████████████████████████████████████████████████████████████████████████████████████████| 732/732 [01:28<00:00,  8.29it/s]\n",
      "  0%|                                                                                                                    | 1/2926 [00:00<06:37,  7.35it/s]"
     ]
    },
    {
     "name": "stdout",
     "output_type": "stream",
     "text": [
      "epoch 0 loss 0.285066\n",
      "new best ckpt\n"
     ]
    },
    {
     "name": "stderr",
     "output_type": "stream",
     "text": [
      "100%|█████████████████████████████████████████████████████████████████████████████████████████████████████████████████| 2926/2926 [05:48<00:00,  8.40it/s]\n",
      "100%|███████████████████████████████████████████████████████████████████████████████████████████████████████████████████| 732/732 [01:23<00:00,  8.78it/s]\n",
      "  0%|                                                                                                                    | 1/2926 [00:00<05:59,  8.13it/s]"
     ]
    },
    {
     "name": "stdout",
     "output_type": "stream",
     "text": [
      "epoch 1 loss 0.215303\n",
      "new best ckpt\n"
     ]
    },
    {
     "name": "stderr",
     "output_type": "stream",
     "text": [
      "100%|█████████████████████████████████████████████████████████████████████████████████████████████████████████████████| 2926/2926 [05:38<00:00,  8.65it/s]\n",
      "100%|███████████████████████████████████████████████████████████████████████████████████████████████████████████████████| 732/732 [01:22<00:00,  8.85it/s]\n",
      "  0%|                                                                                                                    | 1/2926 [00:00<05:10,  9.43it/s]"
     ]
    },
    {
     "name": "stdout",
     "output_type": "stream",
     "text": [
      "epoch 2 loss 0.191639\n",
      "new best ckpt\n"
     ]
    },
    {
     "name": "stderr",
     "output_type": "stream",
     "text": [
      "100%|█████████████████████████████████████████████████████████████████████████████████████████████████████████████████| 2926/2926 [05:38<00:00,  8.63it/s]\n",
      "100%|███████████████████████████████████████████████████████████████████████████████████████████████████████████████████| 732/732 [01:22<00:00,  8.90it/s]\n",
      "  0%|                                                                                                                    | 1/2926 [00:00<07:33,  6.45it/s]"
     ]
    },
    {
     "name": "stdout",
     "output_type": "stream",
     "text": [
      "epoch 3 loss 0.180880\n",
      "new best ckpt\n"
     ]
    },
    {
     "name": "stderr",
     "output_type": "stream",
     "text": [
      "100%|█████████████████████████████████████████████████████████████████████████████████████████████████████████████████| 2926/2926 [05:35<00:00,  8.72it/s]\n",
      "100%|███████████████████████████████████████████████████████████████████████████████████████████████████████████████████| 732/732 [01:22<00:00,  8.90it/s]\n",
      "  0%|▏                                                                                                                    | 1/732 [00:00<01:37,  7.46it/s]"
     ]
    },
    {
     "name": "stdout",
     "output_type": "stream",
     "text": [
      "epoch 4 loss 0.175133\n",
      "new best ckpt\n"
     ]
    },
    {
     "name": "stderr",
     "output_type": "stream",
     "text": [
      "100%|███████████████████████████████████████████████████████████████████████████████████████████████████████████████████| 732/732 [01:22<00:00,  8.90it/s]\n",
      "100%|█████████████████████████████████████████████████████████████████████████████████████████████████████████████████| 2926/2926 [05:39<00:00,  8.63it/s]\n",
      "100%|███████████████████████████████████████████████████████████████████████████████████████████████████████████████████| 732/732 [01:23<00:00,  8.81it/s]\n",
      "  0%|                                                                                                                    | 1/2926 [00:00<06:02,  8.06it/s]"
     ]
    },
    {
     "name": "stdout",
     "output_type": "stream",
     "text": [
      "epoch 0 loss 0.507666\n",
      "new best ckpt\n"
     ]
    },
    {
     "name": "stderr",
     "output_type": "stream",
     "text": [
      "100%|█████████████████████████████████████████████████████████████████████████████████████████████████████████████████| 2926/2926 [05:39<00:00,  8.61it/s]\n",
      "100%|███████████████████████████████████████████████████████████████████████████████████████████████████████████████████| 732/732 [01:22<00:00,  8.84it/s]\n",
      "  0%|                                                                                                                    | 1/2926 [00:00<06:11,  7.87it/s]"
     ]
    },
    {
     "name": "stdout",
     "output_type": "stream",
     "text": [
      "epoch 1 loss 0.400265\n",
      "new best ckpt\n"
     ]
    },
    {
     "name": "stderr",
     "output_type": "stream",
     "text": [
      "100%|█████████████████████████████████████████████████████████████████████████████████████████████████████████████████| 2926/2926 [05:39<00:00,  8.61it/s]\n",
      "100%|███████████████████████████████████████████████████████████████████████████████████████████████████████████████████| 732/732 [01:23<00:00,  8.76it/s]\n",
      "  0%|                                                                                                                    | 1/2926 [00:00<06:14,  7.81it/s]"
     ]
    },
    {
     "name": "stdout",
     "output_type": "stream",
     "text": [
      "epoch 2 loss 0.334827\n",
      "new best ckpt\n"
     ]
    },
    {
     "name": "stderr",
     "output_type": "stream",
     "text": [
      "100%|█████████████████████████████████████████████████████████████████████████████████████████████████████████████████| 2926/2926 [05:39<00:00,  8.62it/s]\n",
      "100%|███████████████████████████████████████████████████████████████████████████████████████████████████████████████████| 732/732 [01:23<00:00,  8.77it/s]\n",
      "  0%|                                                                                                                    | 1/2926 [00:00<06:34,  7.41it/s]"
     ]
    },
    {
     "name": "stdout",
     "output_type": "stream",
     "text": [
      "epoch 3 loss 0.292518\n",
      "new best ckpt\n"
     ]
    },
    {
     "name": "stderr",
     "output_type": "stream",
     "text": [
      "100%|█████████████████████████████████████████████████████████████████████████████████████████████████████████████████| 2926/2926 [05:40<00:00,  8.60it/s]\n",
      "100%|███████████████████████████████████████████████████████████████████████████████████████████████████████████████████| 732/732 [01:23<00:00,  8.77it/s]\n",
      "  0%|▏                                                                                                                    | 1/732 [00:00<01:37,  7.46it/s]"
     ]
    },
    {
     "name": "stdout",
     "output_type": "stream",
     "text": [
      "epoch 4 loss 0.263729\n",
      "new best ckpt\n"
     ]
    },
    {
     "name": "stderr",
     "output_type": "stream",
     "text": [
      "100%|███████████████████████████████████████████████████████████████████████████████████████████████████████████████████| 732/732 [01:22<00:00,  8.84it/s]\n"
     ]
    }
   ],
   "source": [
    "preds = []\n",
    "\n",
    "for i in range(8):\n",
    "    feat_model = models[i]\n",
    "    probe_model = probe_models[i]\n",
    "    \n",
    "    criterion = nn.BCEWithLogitsLoss()\n",
    "    optimizer = optim.SGD(probe_model.parameters(), lr=0.001)\n",
    "    \n",
    "    exp.run('sgd_depth%d_probe'%i, feat_model, probe_model, criterion, optimizer, batch_size=64, num_epochs=5)\n",
    "    preds_, labels = exp.test_inference(feat_model, probe_model)\n",
    "    preds.append(preds_)"
   ]
  },
  {
   "cell_type": "code",
   "execution_count": 8,
   "id": "8f5f8159",
   "metadata": {},
   "outputs": [
    {
     "data": {
      "image/png": "[encoded data removed]",
      "text/plain": [
       "<Figure size 1080x432 with 10 Axes>"
      ]
     },
     "metadata": {
      "needs_background": "light"
     },
     "output_type": "display_data"
    }
   ],
   "source": [
    "cols = 5\n",
    "rows = ceil(len(keywords)/cols)\n",
    "plt.rcParams['figure.figsize'] = (3*cols, 3*rows)\n",
    "fig, axs = plt.subplots(rows, cols)\n",
    "fig.subplots_adjust(hspace=0.5)\n",
    "\n",
    "for kw in range(len(keywords)):\n",
    "    aucs = []\n",
    "    for depth in range(8):\n",
    "        kw_preds = preds[depth][:, kw]\n",
    "        kw_labels = labels[:, kw]\n",
    "        auc = roc_auc_score(kw_labels, kw_preds)\n",
    "        aucs.append(auc)\n",
    "    axs[kw//cols][kw%cols].plot(aucs)\n",
    "    axs[kw//cols][kw%cols].set_title(keywords[kw])\n",
    "    "
   ]
  },
  {
   "cell_type": "code",
   "execution_count": 9,
   "id": "d1001285",
   "metadata": {},
   "outputs": [
    {
     "data": {
      "image/png": "[encoded data removed]",
      "text/plain": [
       "<Figure size 1080x432 with 10 Axes>"
      ]
     },
     "metadata": {
      "needs_background": "light"
     },
     "output_type": "display_data"
    }
   ],
   "source": [
    "cols = 5\n",
    "rows = ceil(len(keywords)/cols)\n",
    "plt.rcParams['figure.figsize'] = (3*cols, 3*rows)\n",
    "fig, axs = plt.subplots(rows, cols)\n",
    "fig.subplots_adjust(hspace=0.5)\n",
    "\n",
    "for kw in range(len(keywords)):\n",
    "    losses = []\n",
    "    for depth in range(8):\n",
    "        kw_preds = preds[depth][:, kw]\n",
    "        kw_labels = labels[:, kw]\n",
    "        loss = nn.BCEWithLogitsLoss()(torch.from_numpy(kw_labels), torch.from_numpy(kw_preds))\n",
    "        losses.append(-loss)\n",
    "    axs[kw//cols][kw%cols].plot(losses)\n",
    "    axs[kw//cols][kw%cols].set_title(keywords[kw])"
   ]
  }
 ],
 "metadata": {
  "kernelspec": {
   "display_name": "Python 3",
   "language": "python",
   "name": "python3"
  },
  "language_info": {
   "codemirror_mode": {
    "name": "ipython",
    "version": 3
   },
   "file_extension": ".py",
   "mimetype": "text/x-python",
   "name": "python",
   "nbconvert_exporter": "python",
   "pygments_lexer": "ipython3",
   "version": "3.6.12"
  }
 },
 "nbformat": 4,
 "nbformat_minor": 5
}
