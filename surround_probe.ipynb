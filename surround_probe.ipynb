{
 "cells": [
  {
   "cell_type": "code",
   "execution_count": 1,
   "metadata": {},
   "outputs": [],
   "source": [
    "from probe_experiment import *\n",
    "from handcrafted_datasets import Dataset\n",
    "from models import *\n",
    "import torch\n",
    "import torch.nn as nn\n",
    "from sklearn.metrics import roc_curve, roc_auc_score"
   ]
  },
  {
   "cell_type": "code",
   "execution_count": 2,
   "metadata": {},
   "outputs": [
    {
     "name": "stdout",
     "output_type": "stream",
     "text": [
      "done loading data\n",
      "split sizes:\n",
      "train 552\n",
      "test 138\n"
     ]
    }
   ],
   "source": [
    "dataset = Dataset('surround', 'C:\\\\Users\\\\andre\\\\go-ai\\\\data', 0.8, 0.2, 1024)\n",
    "\n",
    "def get_train_loader():\n",
    "    dataset.shuffle('train')\n",
    "    return dataset.loader('train', max_ram_files=25)\n",
    "\n",
    "def get_test_loader():\n",
    "    return dataset.loader('test', max_ram_files=25)"
   ]
  },
  {
   "cell_type": "code",
   "execution_count": 3,
   "metadata": {},
   "outputs": [],
   "source": [
    "def flatten_bce_loss(pred, target):\n",
    "    return torch.nn.BCEWithLogitsLoss()(pred, nn.Flatten()(target))\n",
    "criterion = flatten_bce_loss"
   ]
  },
  {
   "cell_type": "code",
   "execution_count": 4,
   "metadata": {},
   "outputs": [],
   "source": [
    "go_model = load_go_model_from_ckpt('model_ckpt.pth.tar', rm_prefix=True)\n",
    "feat_models = [CutModel(go_model, i).cuda() for i in range(8)]\n",
    "n_channels = [8, 64, 64, 64, 48, 48, 32, 32]\n",
    "probe_models = [nn.Sequential(nn.Conv2d(nc, 1, 19, padding=9), nn.Flatten()).cuda() for nc in n_channels]"
   ]
  },
  {
   "cell_type": "code",
   "execution_count": 5,
   "metadata": {},
   "outputs": [
    {
     "name": "stdout",
     "output_type": "stream",
     "text": [
      "probing at depth 1\n",
      "[LOG] epoch 0 loss 0.018990, new best\n",
      "[LOG] epoch 1 loss 0.014795, new best\n",
      "[LOG] epoch 2 loss 0.013469, new best\n",
      "[LOG] epoch 3 loss 0.012375, new best\n",
      "0.9969218020919967\n",
      "probing at depth 2\n",
      "[LOG] epoch 0 loss 0.024452, new best\n",
      "[LOG] epoch 1 loss 0.019703, new best\n",
      "[LOG] epoch 2 loss 0.017807, new best\n",
      "[LOG] epoch 3 loss 0.016749, new best\n",
      "0.9937401579200829\n",
      "probing at depth 3\n",
      "[LOG] epoch 0 loss 0.021852, new best\n",
      "[LOG] epoch 1 loss 0.018065, new best\n",
      "[LOG] epoch 2 loss 0.016437, new best\n",
      "[LOG] epoch 3 loss 0.015862, new best\n",
      "0.9947033812751381\n",
      "probing at depth 4\n",
      "[LOG] epoch 0 loss 0.031373, new best\n",
      "[LOG] epoch 1 loss 0.026548, new best\n",
      "[LOG] epoch 2 loss 0.024066, new best\n",
      "[LOG] epoch 3 loss 0.022915, new best\n",
      "0.9849409017514535\n",
      "probing at depth 5\n",
      "[LOG] epoch 0 loss 0.041520, new best\n",
      "[LOG] epoch 1 loss 0.037042, new best\n",
      "[LOG] epoch 2 loss 0.035056, new best\n",
      "[LOG] epoch 3 loss 0.033995, new best\n",
      "0.948609273482293\n",
      "probing at depth 6\n",
      "[LOG] epoch 0 loss 0.047609, new best\n",
      "[LOG] epoch 1 loss 0.044769, new best\n",
      "[LOG] epoch 2 loss 0.042955, new best\n",
      "[LOG] epoch 3 loss 0.041672, new best\n",
      "0.8877608458112647\n",
      "probing at depth 7\n",
      "[LOG] epoch 0 loss 0.054296, new best\n",
      "[LOG] epoch 1 loss 0.049272, new best\n",
      "[LOG] epoch 2 loss 0.046958, new best\n",
      "[LOG] epoch 3 loss 0.045786, new best\n",
      "0.8278371074991652\n"
     ]
    }
   ],
   "source": [
    "aucs = []\n",
    "for depth in range(1, 8):\n",
    "    print('probing at depth %d' % depth)\n",
    "    feat_model = feat_models[depth]\n",
    "    probe_model = probe_models[depth]\n",
    "    exp = ProbeExperiment(get_train_loader, get_test_loader, feat_model)\n",
    "    config = {'name':'surround/surround_19x19cnn_d%d'%depth, 'write_log':True, 'progress_bar':False, 'save_ckpt':False}\n",
    "    optimizer = torch.optim.Adam(probe_model.parameters())\n",
    "    exp.run(probe_model, criterion, optimizer, 4, config)\n",
    "    preds, labels = exp.get_predictions(probe_model, get_test_loader())\n",
    "    auc = roc_auc_score(labels.flatten(), preds.flatten())\n",
    "    aucs.append(auc)\n",
    "    print(auc)"
   ]
  }
 ],
 "metadata": {
  "kernelspec": {
   "display_name": "Python 3",
   "language": "python",
   "name": "python3"
  },
  "language_info": {
   "codemirror_mode": {
    "name": "ipython",
    "version": 3
   },
   "file_extension": ".py",
   "mimetype": "text/x-python",
   "name": "python",
   "nbconvert_exporter": "python",
   "pygments_lexer": "ipython3",
   "version": "3.6.12"
  }
 },
 "nbformat": 4,
 "nbformat_minor": 5
}
