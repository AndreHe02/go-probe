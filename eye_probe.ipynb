{
 "cells": [
  {
   "cell_type": "code",
   "execution_count": 1,
   "metadata": {},
   "outputs": [],
   "source": [
    "from probe_experiment import *\n",
    "from handcrafted_datasets import Dataset\n",
    "from models import *\n",
    "import torch\n",
    "import torch.nn as nn\n",
    "from sklearn.metrics import roc_curve, roc_auc_score"
   ]
  },
  {
   "cell_type": "code",
   "execution_count": 2,
   "metadata": {},
   "outputs": [
    {
     "name": "stdout",
     "output_type": "stream",
     "text": [
      "done loading data\n",
      "split sizes:\n",
      "train 554\n",
      "test 138\n"
     ]
    }
   ],
   "source": [
    "dataset = Dataset('eyes', 'C:\\\\Users\\\\andre\\\\go-ai\\\\data', 0.8, 0.2, 1024)\n",
    "\n",
    "def get_train_loader():\n",
    "    dataset.shuffle('train')\n",
    "    return dataset.loader('train', max_ram_files=100)\n",
    "\n",
    "def get_test_loader():\n",
    "    return dataset.loader('test', max_ram_files=100)"
   ]
  },
  {
   "cell_type": "code",
   "execution_count": 3,
   "metadata": {},
   "outputs": [],
   "source": [
    "def flatten_bce_loss(pred, target):\n",
    "    return torch.nn.BCEWithLogitsLoss()(pred, nn.Flatten()(target))\n",
    "criterion = flatten_bce_loss"
   ]
  },
  {
   "cell_type": "code",
   "execution_count": 4,
   "metadata": {},
   "outputs": [],
   "source": [
    "go_model = load_go_model_from_ckpt('model_ckpt.pth.tar', rm_prefix=True)\n",
    "feat_models = [CutModel(go_model, i).cuda() for i in range(8)]\n",
    "n_channels = [8, 64, 64, 64, 48, 48, 32, 32]\n",
    "probe_models = [nn.Sequential(nn.Conv2d(nc, 1, 19, padding=9), nn.Flatten()).cuda() for nc in n_channels]"
   ]
  },
  {
   "cell_type": "code",
   "execution_count": 5,
   "metadata": {},
   "outputs": [
    {
     "name": "stdout",
     "output_type": "stream",
     "text": [
      "probing at depth 0\n",
      "[LOG] epoch 0 loss 0.024897, new best\n",
      "[LOG] epoch 1 loss 0.018803, new best\n",
      "[LOG] epoch 2 loss 0.014821, new best\n",
      "[LOG] epoch 3 loss 0.011855, new best\n",
      "[LOG] epoch 4 loss 0.009625, new best\n",
      "[LOG] epoch 5 loss 0.007980, new best\n",
      "[LOG] epoch 6 loss 0.006710, new best\n",
      "[LOG] epoch 7 loss 0.005726, new best\n",
      "[LOG] epoch 8 loss 0.004961, new best\n",
      "[LOG] epoch 9 loss 0.004302, new best\n",
      "0.9999147633450837\n",
      "probing at depth 1\n",
      "[LOG] epoch 0 loss 0.006176, new best\n",
      "[LOG] epoch 1 loss 0.002967, new best\n",
      "[LOG] epoch 2 loss 0.001878, new best\n",
      "[LOG] epoch 3 loss 0.001328, new best\n",
      "[LOG] epoch 4 loss 0.000984, new best\n",
      "[LOG] epoch 5 loss 0.000759, new best\n",
      "[LOG] epoch 6 loss 0.000593, new best\n",
      "[LOG] epoch 7 loss 0.000467, new best\n",
      "[LOG] epoch 8 loss 0.000380, new best\n",
      "[LOG] epoch 9 loss 0.000299, new best\n",
      "0.9999999508091887\n",
      "probing at depth 2\n",
      "[LOG] epoch 0 loss 0.012909, new best\n",
      "[LOG] epoch 1 loss 0.007618, new best\n",
      "[LOG] epoch 2 loss 0.005588, new best\n",
      "[LOG] epoch 3 loss 0.004483, new best\n",
      "[LOG] epoch 4 loss 0.003781, new best\n",
      "[LOG] epoch 5 loss 0.003312, new best\n",
      "[LOG] epoch 6 loss 0.002952, new best\n",
      "[LOG] epoch 7 loss 0.002620, new best\n",
      "[LOG] epoch 8 loss 0.002515, new best\n",
      "[LOG] epoch 9 loss 0.002308, new best\n",
      "0.9997248912794334\n",
      "probing at depth 3\n",
      "[LOG] epoch 0 loss 0.009032, new best\n",
      "[LOG] epoch 1 loss 0.005733, new best\n"
     ]
    },
    {
     "ename": "KeyboardInterrupt",
     "evalue": "",
     "output_type": "error",
     "traceback": [
      "\u001b[1;31m---------------------------------------------------------------------------\u001b[0m",
      "\u001b[1;31mKeyboardInterrupt\u001b[0m                         Traceback (most recent call last)",
      "\u001b[1;32m<ipython-input-5-7acfa094bcd6>\u001b[0m in \u001b[0;36m<module>\u001b[1;34m()\u001b[0m\n\u001b[0;32m      7\u001b[0m     \u001b[0mconfig\u001b[0m \u001b[1;33m=\u001b[0m \u001b[1;33m{\u001b[0m\u001b[1;34m'name'\u001b[0m\u001b[1;33m:\u001b[0m\u001b[1;34m'eyes/eyes_19x19cnn_d%d'\u001b[0m\u001b[1;33m%\u001b[0m\u001b[0mdepth\u001b[0m\u001b[1;33m,\u001b[0m \u001b[1;34m'write_log'\u001b[0m\u001b[1;33m:\u001b[0m\u001b[1;32mTrue\u001b[0m\u001b[1;33m,\u001b[0m \u001b[1;34m'progress_bar'\u001b[0m\u001b[1;33m:\u001b[0m\u001b[1;32mFalse\u001b[0m\u001b[1;33m,\u001b[0m \u001b[1;34m'save_ckpt'\u001b[0m\u001b[1;33m:\u001b[0m\u001b[1;32mFalse\u001b[0m\u001b[1;33m}\u001b[0m\u001b[1;33m\u001b[0m\u001b[1;33m\u001b[0m\u001b[0m\n\u001b[0;32m      8\u001b[0m     \u001b[0moptimizer\u001b[0m \u001b[1;33m=\u001b[0m \u001b[0mtorch\u001b[0m\u001b[1;33m.\u001b[0m\u001b[0moptim\u001b[0m\u001b[1;33m.\u001b[0m\u001b[0mAdam\u001b[0m\u001b[1;33m(\u001b[0m\u001b[0mprobe_model\u001b[0m\u001b[1;33m.\u001b[0m\u001b[0mparameters\u001b[0m\u001b[1;33m(\u001b[0m\u001b[1;33m)\u001b[0m\u001b[1;33m)\u001b[0m\u001b[1;33m\u001b[0m\u001b[1;33m\u001b[0m\u001b[0m\n\u001b[1;32m----> 9\u001b[1;33m     \u001b[0mexp\u001b[0m\u001b[1;33m.\u001b[0m\u001b[0mrun\u001b[0m\u001b[1;33m(\u001b[0m\u001b[0mprobe_model\u001b[0m\u001b[1;33m,\u001b[0m \u001b[0mcriterion\u001b[0m\u001b[1;33m,\u001b[0m \u001b[0moptimizer\u001b[0m\u001b[1;33m,\u001b[0m \u001b[1;36m10\u001b[0m\u001b[1;33m,\u001b[0m \u001b[0mconfig\u001b[0m\u001b[1;33m)\u001b[0m\u001b[1;33m\u001b[0m\u001b[1;33m\u001b[0m\u001b[0m\n\u001b[0m\u001b[0;32m     10\u001b[0m     \u001b[0mpreds\u001b[0m\u001b[1;33m,\u001b[0m \u001b[0mlabels\u001b[0m \u001b[1;33m=\u001b[0m \u001b[0mexp\u001b[0m\u001b[1;33m.\u001b[0m\u001b[0mget_predictions\u001b[0m\u001b[1;33m(\u001b[0m\u001b[0mprobe_model\u001b[0m\u001b[1;33m,\u001b[0m \u001b[0mget_test_loader\u001b[0m\u001b[1;33m(\u001b[0m\u001b[1;33m)\u001b[0m\u001b[1;33m)\u001b[0m\u001b[1;33m\u001b[0m\u001b[1;33m\u001b[0m\u001b[0m\n\u001b[0;32m     11\u001b[0m     \u001b[0mauc\u001b[0m \u001b[1;33m=\u001b[0m \u001b[0mroc_auc_score\u001b[0m\u001b[1;33m(\u001b[0m\u001b[0mlabels\u001b[0m\u001b[1;33m.\u001b[0m\u001b[0mflatten\u001b[0m\u001b[1;33m(\u001b[0m\u001b[1;33m)\u001b[0m\u001b[1;33m,\u001b[0m \u001b[0mpreds\u001b[0m\u001b[1;33m.\u001b[0m\u001b[0mflatten\u001b[0m\u001b[1;33m(\u001b[0m\u001b[1;33m)\u001b[0m\u001b[1;33m)\u001b[0m\u001b[1;33m\u001b[0m\u001b[1;33m\u001b[0m\u001b[0m\n",
      "\u001b[1;32m~\\Desktop\\go-probe\\probe_experiment.py\u001b[0m in \u001b[0;36mrun\u001b[1;34m(self, probe_model, criterion, optimizer, num_epochs, configs)\u001b[0m\n\u001b[0;32m     74\u001b[0m         \u001b[0mbest_loss\u001b[0m \u001b[1;33m=\u001b[0m \u001b[1;36m1e10\u001b[0m\u001b[1;33m\u001b[0m\u001b[1;33m\u001b[0m\u001b[0m\n\u001b[0;32m     75\u001b[0m         \u001b[1;32mfor\u001b[0m \u001b[0mepoch\u001b[0m \u001b[1;32min\u001b[0m \u001b[0mrange\u001b[0m\u001b[1;33m(\u001b[0m\u001b[0mnum_epochs\u001b[0m\u001b[1;33m)\u001b[0m\u001b[1;33m:\u001b[0m\u001b[1;33m\u001b[0m\u001b[1;33m\u001b[0m\u001b[0m\n\u001b[1;32m---> 76\u001b[1;33m             \u001b[0mself\u001b[0m\u001b[1;33m.\u001b[0m\u001b[0mtrain_epoch\u001b[0m\u001b[1;33m(\u001b[0m\u001b[0mprobe_model\u001b[0m\u001b[1;33m,\u001b[0m \u001b[0mcriterion\u001b[0m\u001b[1;33m,\u001b[0m \u001b[0moptimizer\u001b[0m\u001b[1;33m,\u001b[0m \u001b[0mlogger\u001b[0m\u001b[1;33m,\u001b[0m \u001b[0mepoch\u001b[0m\u001b[1;33m,\u001b[0m \u001b[0mprogress_bar\u001b[0m\u001b[1;33m)\u001b[0m\u001b[1;33m\u001b[0m\u001b[1;33m\u001b[0m\u001b[0m\n\u001b[0m\u001b[0;32m     77\u001b[0m             \u001b[0mloss\u001b[0m \u001b[1;33m=\u001b[0m \u001b[0mself\u001b[0m\u001b[1;33m.\u001b[0m\u001b[0mtest_epoch\u001b[0m\u001b[1;33m(\u001b[0m\u001b[0mprobe_model\u001b[0m\u001b[1;33m,\u001b[0m \u001b[0mcriterion\u001b[0m\u001b[1;33m,\u001b[0m \u001b[0mlogger\u001b[0m\u001b[1;33m,\u001b[0m \u001b[0mepoch\u001b[0m\u001b[1;33m)\u001b[0m\u001b[1;33m\u001b[0m\u001b[1;33m\u001b[0m\u001b[0m\n\u001b[0;32m     78\u001b[0m             \u001b[1;32mif\u001b[0m \u001b[0mloss\u001b[0m \u001b[1;33m<\u001b[0m \u001b[0mbest_loss\u001b[0m\u001b[1;33m:\u001b[0m\u001b[1;33m\u001b[0m\u001b[1;33m\u001b[0m\u001b[0m\n",
      "\u001b[1;32m~\\Desktop\\go-probe\\probe_experiment.py\u001b[0m in \u001b[0;36mtrain_epoch\u001b[1;34m(self, probe_model, criterion, optimizer, logger, epoch, progress_bar)\u001b[0m\n\u001b[0;32m     42\u001b[0m             \u001b[0moptimizer\u001b[0m\u001b[1;33m.\u001b[0m\u001b[0mzero_grad\u001b[0m\u001b[1;33m(\u001b[0m\u001b[1;33m)\u001b[0m\u001b[1;33m\u001b[0m\u001b[1;33m\u001b[0m\u001b[0m\n\u001b[0;32m     43\u001b[0m             \u001b[1;32mif\u001b[0m \u001b[0mlogger\u001b[0m \u001b[1;32mis\u001b[0m \u001b[1;32mnot\u001b[0m \u001b[1;32mNone\u001b[0m\u001b[1;33m:\u001b[0m\u001b[1;33m\u001b[0m\u001b[1;33m\u001b[0m\u001b[0m\n\u001b[1;32m---> 44\u001b[1;33m                 logger.add_scalar('loss/train', loss.data.item(),\n\u001b[0m\u001b[0;32m     45\u001b[0m                     step+epoch*len(train_loader))\n\u001b[0;32m     46\u001b[0m \u001b[1;33m\u001b[0m\u001b[0m\n",
      "\u001b[1;31mKeyboardInterrupt\u001b[0m: "
     ]
    }
   ],
   "source": [
    "aucs = []\n",
    "for depth in range(8):\n",
    "    print('probing at depth %d' % depth)\n",
    "    feat_model = feat_models[depth]\n",
    "    probe_model = probe_models[depth]\n",
    "    exp = ProbeExperiment(get_train_loader, get_test_loader, feat_model)\n",
    "    config = {'name':'eyes/eyes_19x19cnn_d%d'%depth, 'write_log':True, 'progress_bar':False, 'save_ckpt':False}\n",
    "    optimizer = torch.optim.Adam(probe_model.parameters())\n",
    "    exp.run(probe_model, criterion, optimizer, 10, config)\n",
    "    preds, labels = exp.get_predictions(probe_model, get_test_loader())\n",
    "    auc = roc_auc_score(labels.flatten(), preds.flatten())\n",
    "    aucs.append(auc)\n",
    "    print(auc)"
   ]
  }
 ],
 "metadata": {
  "kernelspec": {
   "display_name": "Python 3",
   "language": "python",
   "name": "python3"
  },
  "language_info": {
   "codemirror_mode": {
    "name": "ipython",
    "version": 3
   },
   "file_extension": ".py",
   "mimetype": "text/x-python",
   "name": "python",
   "nbconvert_exporter": "python",
   "pygments_lexer": "ipython3",
   "version": "3.6.12"
  }
 },
 "nbformat": 4,
 "nbformat_minor": 5
}
