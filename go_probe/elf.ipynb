{
 "cells": [
  {
   "cell_type": "code",
   "execution_count": 1,
   "metadata": {},
   "outputs": [
    {
     "name": "stderr",
     "output_type": "stream",
     "text": [
      "100%|████████████████████████████████████████████████████████████████████████| 79206/79206 [00:00<00:00, 244754.82it/s]\n"
     ]
    }
   ],
   "source": [
    "from annotated_datasets import *\n",
    "keywords = ['territory', 'cut', 'sente', 'shape', 'moyo',\n",
    "            'ko', 'invasion', 'influence', 'wall', 'eye']\n",
    "sgf_dataset = get_annotated_dataset('data/contains_top_10_kw.pkl', lambda x: x, make_bag_of_words(keywords))"
   ]
  },
  {
   "cell_type": "code",
   "execution_count": 1,
   "metadata": {},
   "outputs": [],
   "source": [
    "from elf.df_model3 import Model_PolicyValue\n",
    "\n",
    "class ModelOptions:\n",
    "    leaky_relu = False\n",
    "    dim = 256\n",
    "    bn = True\n",
    "    bn_momentum = 0.1\n",
    "    bn_eps = 1e-5\n",
    "    num_block = 20\n",
    "    gpu = 0\n",
    "    use_data_parallel = False\n",
    "    use_data_parallel_distributed = False\n",
    "\n",
    "params = {\"board_size\": 19, \"num_planes\":18}\n",
    "\n",
    "model = Model_PolicyValue(ModelOptions, params)\n",
    "\n",
    "_replace_prefix = [\"resnet.module,resnet\", \"init_conv.module,init_conv\"]\n",
    "replace_prefix = [\n",
    "    item.split(\",\")\n",
    "    for item in _replace_prefix\n",
    "]\n",
    "model.load(\n",
    "    \"elf/pretrained-go-19x19-v2.bin\",\n",
    "    omit_keys=[],\n",
    "    replace_prefix=replace_prefix,\n",
    "    check_loaded_options=False)\n",
    "model = model.cuda()"
   ]
  },
  {
   "cell_type": "code",
   "execution_count": 2,
   "metadata": {},
   "outputs": [],
   "source": []
  },
  {
   "cell_type": "code",
   "execution_count": null,
   "metadata": {},
   "outputs": [],
   "source": []
  },
  {
   "cell_type": "code",
   "execution_count": 3,
   "metadata": {},
   "outputs": [],
   "source": [
    "def AGZ_features(sgf_str):\n",
    "    game = goboard.GameState.new_game(19)\n",
    "    move_seq = sgf_str.split(';')[1:-1]\n",
    "    AGZ_feat = np.zeros((18, 19, 19), dtype=np.float64)\n",
    "    encoder = SevenPlaneEncoder((19, 19))\n",
    "\n",
    "    for mv, move_name in enumerate(move_seq):\n",
    "        idx = move_name.index('[')\n",
    "        col_s, row_s = move_name[idx+1], move_name[idx+2]\n",
    "        col = ord(col_s) - 97\n",
    "        row = 19 - ord(row_s) + 96\n",
    "        if 'B' in move_name:\n",
    "            game.board.place_stone(Player.black, Point(row+1, col+1))\n",
    "            game.next_player = Player.white\n",
    "        elif 'W' in move_name:\n",
    "            game.board.place_stone(Player.white, Point(row+1, col+1))\n",
    "            game.next_player = Player.black\n",
    "\n",
    "        t = len(move_seq)-mv-1\n",
    "        if t < 8:\n",
    "            svp = encoder.encode(game)\n",
    "            own = np.sum(svp[0:3], axis=0)\n",
    "            opp = np.sum(svp[3:6], axis=0)\n",
    "            if t % 2 == 1:\n",
    "                own, opp = opp, own\n",
    "            AGZ_feat[t*2] = own\n",
    "            AGZ_feat[t*2+1] = opp\n",
    "\n",
    "        if game.next_player == Player.black:\n",
    "            AGZ_feat[16] = 1\n",
    "        else:\n",
    "            AGZ_feat[17] = 1\n",
    "\n",
    "    return AGZ_feat\n",
    "\n",
    "def agz_reprs(X):\n",
    "    agz_feats = [AGZ_features(X['sgf'][i]) for i in range(len(X['sgf']))]\n",
    "    agz_feats = np.stack(agz_feats)\n",
    "    rep = model.forward_resnet(torch.from_numpy(agz_feats).type(torch.FloatTensor).cuda())\n",
    "    return [rep.detach()]"
   ]
  },
  {
   "cell_type": "code",
   "execution_count": null,
   "metadata": {},
   "outputs": [],
   "source": []
  },
  {
   "cell_type": "code",
   "execution_count": 4,
   "metadata": {},
   "outputs": [],
   "source": [
    "import torch.nn as nn\n",
    "import torch.optim as optim\n",
    "init_probes = lambda : [nn.Sequential(nn.Flatten(), nn.Linear(256*19*19, len(keywords))).cuda()]\n",
    "criterion = nn.BCEWithLogitsLoss()\n",
    "num_epochs = 5"
   ]
  },
  {
   "cell_type": "code",
   "execution_count": 5,
   "metadata": {},
   "outputs": [
    {
     "name": "stderr",
     "output_type": "stream",
     "text": [
      "100%|██████████████████████████████████████████████████████████████████████████████| 1114/1114 [13:48<00:00,  1.34it/s]\n",
      "100%|████████████████████████████████████████████████████████████████████████████████| 124/124 [01:35<00:00,  1.30it/s]\n",
      "  0%|                                                                                         | 0/1114 [00:00<?, ?it/s]"
     ]
    },
    {
     "name": "stdout",
     "output_type": "stream",
     "text": [
      "[1.12717716]\n"
     ]
    },
    {
     "name": "stderr",
     "output_type": "stream",
     "text": [
      "100%|██████████████████████████████████████████████████████████████████████████████| 1114/1114 [14:37<00:00,  1.27it/s]\n",
      "100%|████████████████████████████████████████████████████████████████████████████████| 124/124 [01:38<00:00,  1.26it/s]\n",
      "  0%|                                                                                         | 0/1114 [00:00<?, ?it/s]"
     ]
    },
    {
     "name": "stdout",
     "output_type": "stream",
     "text": [
      "[0.51067445]\n"
     ]
    },
    {
     "name": "stderr",
     "output_type": "stream",
     "text": [
      "100%|██████████████████████████████████████████████████████████████████████████████| 1114/1114 [14:34<00:00,  1.27it/s]\n",
      "100%|████████████████████████████████████████████████████████████████████████████████| 124/124 [01:33<00:00,  1.32it/s]\n",
      "  0%|                                                                                         | 0/1114 [00:00<?, ?it/s]"
     ]
    },
    {
     "name": "stdout",
     "output_type": "stream",
     "text": [
      "[0.76345874]\n"
     ]
    },
    {
     "name": "stderr",
     "output_type": "stream",
     "text": [
      "100%|██████████████████████████████████████████████████████████████████████████████| 1114/1114 [14:02<00:00,  1.32it/s]\n",
      "100%|████████████████████████████████████████████████████████████████████████████████| 124/124 [01:33<00:00,  1.33it/s]\n",
      "  0%|                                                                                         | 0/1114 [00:00<?, ?it/s]"
     ]
    },
    {
     "name": "stdout",
     "output_type": "stream",
     "text": [
      "[1.22739605]\n"
     ]
    },
    {
     "name": "stderr",
     "output_type": "stream",
     "text": [
      "100%|██████████████████████████████████████████████████████████████████████████████| 1114/1114 [14:11<00:00,  1.31it/s]\n",
      "100%|████████████████████████████████████████████████████████████████████████████████| 124/124 [01:36<00:00,  1.29it/s]"
     ]
    },
    {
     "name": "stdout",
     "output_type": "stream",
     "text": [
      "[0.71938189]\n"
     ]
    },
    {
     "name": "stderr",
     "output_type": "stream",
     "text": [
      "\n"
     ]
    },
    {
     "ename": "NameError",
     "evalue": "name 'get_reprs' is not defined",
     "output_type": "error",
     "traceback": [
      "\u001b[1;31m---------------------------------------------------------------------------\u001b[0m",
      "\u001b[1;31mNameError\u001b[0m                                 Traceback (most recent call last)",
      "\u001b[1;32m<ipython-input-5-cb846d409fe0>\u001b[0m in \u001b[0;36m<module>\u001b[1;34m()\u001b[0m\n\u001b[0;32m      9\u001b[0m probe_layers_parallel(train_dataset, test_dataset, agz_reprs, probes, optimizers, criterion,\n\u001b[0;32m     10\u001b[0m                       num_epochs, 'elf_resnet', batch_size=64)\n\u001b[1;32m---> 11\u001b[1;33m \u001b[0mdf\u001b[0m \u001b[1;33m=\u001b[0m \u001b[0mevaluate_auc\u001b[0m\u001b[1;33m(\u001b[0m\u001b[0mtest_dataset\u001b[0m\u001b[1;33m,\u001b[0m \u001b[0mget_reprs\u001b[0m\u001b[1;33m,\u001b[0m \u001b[0mprobes\u001b[0m\u001b[1;33m)\u001b[0m\u001b[1;33m\u001b[0m\u001b[1;33m\u001b[0m\u001b[0m\n\u001b[0m",
      "\u001b[1;31mNameError\u001b[0m: name 'get_reprs' is not defined"
     ]
    }
   ],
   "source": [
    "from experiments import *\n",
    "\n",
    "dataset = sgf_dataset\n",
    "train_dataset = dataset[:int(0.9*len(dataset))]\n",
    "test_dataset = dataset[int(0.9*len(dataset)):]\n",
    "\n",
    "probes = init_probes()\n",
    "optimizers = [optim.Adam(probes[0].parameters(), lr=0.001)]\n",
    "probe_layers_parallel(train_dataset, test_dataset, agz_reprs, probes, optimizers, criterion,\n",
    "                      num_epochs, 'elf_resnet', batch_size=256)\n",
    "df = evaluate_auc(test_dataset, get_reprs, probes)"
   ]
  }
 ],
 "metadata": {
  "kernelspec": {
   "display_name": "Python 3",
   "language": "python",
   "name": "python3"
  },
  "language_info": {
   "codemirror_mode": {
    "name": "ipython",
    "version": 3
   },
   "file_extension": ".py",
   "mimetype": "text/x-python",
   "name": "python",
   "nbconvert_exporter": "python",
   "pygments_lexer": "ipython3",
   "version": "3.6.12"
  }
 },
 "nbformat": 4,
 "nbformat_minor": 4
}
