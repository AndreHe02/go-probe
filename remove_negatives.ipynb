{
 "cells": [
  {
   "cell_type": "code",
   "execution_count": 1,
   "id": "4ac433eb",
   "metadata": {},
   "outputs": [],
   "source": [
    "import pickle as pkl\n",
    "with open('data/filtered_annotations.pkl', 'rb') as file:\n",
    "    annotations = pkl.load(file)"
   ]
  },
  {
   "cell_type": "code",
   "execution_count": 2,
   "id": "b145c8dd",
   "metadata": {},
   "outputs": [],
   "source": [
    "keywords = ['territory', 'point', 'cut', 'sente', 'shape', 'moyo', 'ko', 'invasion', 'influence', 'wall', 'eye', 'alive', 'life', 'joseki', 'gote', 'aji', 'pincer', 'base', 'thickness', 'connected', 'atari', 'hane', 'down', 'tenuki', 'overplay', 'force', 'fuseki', 'reading', 'bad shape', 'shimari', 'yose', 'follow-up', 'death', 'miai', 'cutting point', 'komi', 'tesuji', 'liberty', 'empty triangle', 'seki', 'kakari', 'vital point', 'keshi', 'surround', 'bad aji', 'de', 'aji keshi', 'dame']"
   ]
  },
  {
   "cell_type": "code",
   "execution_count": 12,
   "id": "55460220",
   "metadata": {},
   "outputs": [
    {
     "name": "stdout",
     "output_type": "stream",
     "text": [
      "234063\n",
      "79206\n"
     ]
    }
   ],
   "source": [
    "def at_least_one(keywords):\n",
    "    keep = []\n",
    "    for ant in annotations:\n",
    "        for kw in keywords:\n",
    "            if kw in ant['comments'].lower():\n",
    "                keep.append(ant)\n",
    "                break\n",
    "    return keep\n",
    "                \n",
    "print(len(annotations))\n",
    "keep = at_least_one(keywords[:10])\n",
    "print(len(keep))"
   ]
  },
  {
   "cell_type": "code",
   "execution_count": 13,
   "id": "ebe259f8",
   "metadata": {},
   "outputs": [
    {
     "name": "stdout",
     "output_type": "stream",
     "text": [
      "{'territory': 16662, 'point': 25630, 'cut': 15629, 'sente': 10478, 'shape': 7542, 'moyo': 7153, 'ko': 7961, 'invasion': 5775, 'influence': 5418, 'wall': 5713}\n"
     ]
    }
   ],
   "source": [
    "counts = {kw:0 for kw in keywords[:10]}\n",
    "for ant in keep:\n",
    "    for kw in keywords[:10]:\n",
    "        if kw in ant['comments'].lower():\n",
    "            counts[kw] += 1\n",
    "print(counts)"
   ]
  },
  {
   "cell_type": "code",
   "execution_count": 14,
   "id": "78004022",
   "metadata": {},
   "outputs": [],
   "source": [
    "with open('annotations_with_at_least_one_top10_kw.pkl', 'wb') as f:\n",
    "    pkl.dump(keep, f)"
   ]
  }
 ],
 "metadata": {
  "kernelspec": {
   "display_name": "Python 3",
   "language": "python",
   "name": "python3"
  },
  "language_info": {
   "codemirror_mode": {
    "name": "ipython",
    "version": 3
   },
   "file_extension": ".py",
   "mimetype": "text/x-python",
   "name": "python",
   "nbconvert_exporter": "python",
   "pygments_lexer": "ipython3",
   "version": "3.6.12"
  }
 },
 "nbformat": 4,
 "nbformat_minor": 5
}
