{
 "cells": [
  {
   "cell_type": "code",
   "execution_count": 1,
   "metadata": {},
   "outputs": [],
   "source": [
    "from probe_experiment import *\n",
    "from handcrafted_datasets import Dataset\n",
    "from models import *\n",
    "import torch\n",
    "import torch.nn as nn\n",
    "from sklearn.metrics import roc_curve, roc_auc_score"
   ]
  },
  {
   "cell_type": "code",
   "execution_count": 2,
   "metadata": {},
   "outputs": [
    {
     "name": "stdout",
     "output_type": "stream",
     "text": [
      "done loading data\n",
      "split sizes:\n",
      "train 552\n",
      "test 138\n"
     ]
    }
   ],
   "source": [
    "dataset = Dataset('captured', 'C:\\\\Users\\\\andre\\\\go-ai\\\\data', 0.8, 0.2, 1024)\n",
    "\n",
    "def get_train_loader():\n",
    "    dataset.shuffle('train')\n",
    "    return dataset.loader('train', max_ram_files=25)\n",
    "\n",
    "def get_test_loader():\n",
    "    return dataset.loader('test', max_ram_files=25)"
   ]
  },
  {
   "cell_type": "code",
   "execution_count": 3,
   "metadata": {},
   "outputs": [],
   "source": [
    "def flatten_bce_loss(pred, target):\n",
    "    return torch.nn.BCEWithLogitsLoss()(pred, nn.Flatten()(target))\n",
    "criterion = flatten_bce_loss"
   ]
  },
  {
   "cell_type": "code",
   "execution_count": 4,
   "metadata": {},
   "outputs": [],
   "source": [
    "go_model = load_go_model_from_ckpt('model_ckpt.pth.tar', rm_prefix=True)\n",
    "feat_models = [CutModel(go_model, i).cuda() for i in range(8)]\n",
    "n_channels = [8, 64, 64, 64, 48, 48, 32, 32]\n",
    "probe_models = [nn.Sequential(nn.Conv2d(nc, 1, 19, padding=9), nn.Flatten()).cuda() for nc in n_channels]"
   ]
  },
  {
   "cell_type": "code",
   "execution_count": 5,
   "metadata": {},
   "outputs": [
    {
     "name": "stdout",
     "output_type": "stream",
     "text": [
      "probing at depth 0\n",
      "[LOG] epoch 0 loss 0.056987, new best\n",
      "[LOG] epoch 1 loss 0.051480, new best\n",
      "[LOG] epoch 2 loss 0.047815, new best\n",
      "[LOG] epoch 3 loss 0.044979, new best\n",
      "0.9290607192506029\n",
      "probing at depth 1\n",
      "[LOG] epoch 0 loss 0.029893, new best\n",
      "[LOG] epoch 1 loss 0.024130, new best\n",
      "[LOG] epoch 2 loss 0.022324, new best\n",
      "[LOG] epoch 3 loss 0.021743, new best\n",
      "0.987991664627094\n",
      "probing at depth 2\n",
      "[LOG] epoch 0 loss 0.037651, new best\n",
      "[LOG] epoch 1 loss 0.032219, new best\n",
      "[LOG] epoch 2 loss 0.029825, new best\n",
      "[LOG] epoch 3 loss 0.029530, new best\n",
      "0.9694191833471042\n",
      "probing at depth 3\n",
      "[LOG] epoch 0 loss 0.033354, new best\n",
      "[LOG] epoch 1 loss 0.029789, new best\n",
      "[LOG] epoch 2 loss 0.028880, new best\n",
      "[LOG] epoch 3 loss 0.028120, new best\n",
      "0.9748617505238877\n",
      "probing at depth 4\n",
      "[LOG] epoch 0 loss 0.042748, new best\n",
      "[LOG] epoch 1 loss 0.038598, new best\n",
      "[LOG] epoch 2 loss 0.036595, new best\n",
      "[LOG] epoch 3 loss 0.037537\n",
      "0.9526331872264885\n",
      "probing at depth 5\n",
      "[LOG] epoch 0 loss 0.052276, new best\n",
      "[LOG] epoch 1 loss 0.047799, new best\n",
      "[LOG] epoch 2 loss 0.045778, new best\n",
      "[LOG] epoch 3 loss 0.044789, new best\n",
      "0.920368668743946\n",
      "probing at depth 6\n",
      "[LOG] epoch 0 loss 0.061485, new best\n",
      "[LOG] epoch 1 loss 0.057267, new best\n",
      "[LOG] epoch 2 loss 0.054963, new best\n",
      "[LOG] epoch 3 loss 0.053562, new best\n",
      "0.8440459006577878\n",
      "probing at depth 7\n",
      "[LOG] epoch 0 loss 0.067345, new best\n",
      "[LOG] epoch 1 loss 0.062328, new best\n",
      "[LOG] epoch 2 loss 0.059632, new best\n",
      "[LOG] epoch 3 loss 0.057782, new best\n",
      "0.7707670556302983\n"
     ]
    }
   ],
   "source": [
    "aucs = []\n",
    "for depth in range(0, 8):\n",
    "    print('probing at depth %d' % depth)\n",
    "    feat_model = feat_models[depth]\n",
    "    probe_model = probe_models[depth]\n",
    "    exp = ProbeExperiment(get_train_loader, get_test_loader, feat_model)\n",
    "    config = {'name':'captured/captured_19x19cnn_d%d'%depth, 'write_log':True, 'progress_bar':False, 'save_ckpt':False}\n",
    "    optimizer = torch.optim.Adam(probe_model.parameters())\n",
    "    exp.run(probe_model, criterion, optimizer, 4, config)\n",
    "    preds, labels = exp.get_predictions(probe_model, get_test_loader())\n",
    "    auc = roc_auc_score(labels.flatten(), preds.flatten())\n",
    "    aucs.append(auc)\n",
    "    print(auc)"
   ]
  },
  {
   "cell_type": "code",
   "execution_count": 7,
   "metadata": {},
   "outputs": [
    {
     "data": {
      "text/plain": [
       "[<matplotlib.lines.Line2D at 0x20e8cd643c8>]"
      ]
     },
     "execution_count": 7,
     "metadata": {},
     "output_type": "execute_result"
    },
    {
     "data": {
      "image/png": "[encoded data removed]",
      "text/plain": [
       "<Figure size 432x288 with 1 Axes>"
      ]
     },
     "metadata": {},
     "output_type": "display_data"
    }
   ],
   "source": [
    "import seaborn as sns\n",
    "import matplotlib.pyplot as plt\n",
    "sns.set_theme(style=\"darkgrid\")\n",
    "plt.plot(aucs)"
   ]
  }
 ],
 "metadata": {
  "kernelspec": {
   "display_name": "Python 3",
   "language": "python",
   "name": "python3"
  },
  "language_info": {
   "codemirror_mode": {
    "name": "ipython",
    "version": 3
   },
   "file_extension": ".py",
   "mimetype": "text/x-python",
   "name": "python",
   "nbconvert_exporter": "python",
   "pygments_lexer": "ipython3",
   "version": "3.6.12"
  }
 },
 "nbformat": 4,
 "nbformat_minor": 5
}
