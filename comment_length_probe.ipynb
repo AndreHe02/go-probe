{
 "cells": [
  {
   "cell_type": "code",
   "execution_count": 1,
   "metadata": {},
   "outputs": [],
   "source": [
    "import numpy as np\n",
    "import pickle as pkl\n",
    "import torch\n",
    "import torch.nn as nn\n",
    "import os\n",
    "import torch.optim as optim\n",
    "from probe_experiment import ProbeExperiment\n",
    "from sklearn.metrics import roc_curve, roc_auc_score\n",
    "import matplotlib.pyplot as plt\n",
    "from io_utils import *\n",
    "from math import ceil"
   ]
  },
  {
   "cell_type": "code",
   "execution_count": 2,
   "metadata": {},
   "outputs": [
    {
     "name": "stderr",
     "output_type": "stream",
     "text": [
      "100%|███████████████████████████████████████████████████████████████████████████████████████████████████████████████████| 210656/210656 [07:25<00:00, 473.04it/s]\n",
      "100%|█████████████████████████████████████████████████████████████████████████████████████████████████████████████████████| 23407/23407 [00:50<00:00, 461.28it/s]\n"
     ]
    }
   ],
   "source": [
    "annotations = read_pkl('data/filtered_annotations.pkl')\n",
    "annotations.sort(key = lambda ant : ant['f_name'])\n",
    "\n",
    "from annotated_datasets import *\n",
    "train_ants = annotations[:int(len(annotations)*0.9)]\n",
    "test_ants = annotations[int(len(annotations)*0.9):]\n",
    "train_dataset = LengthDataset(train_ants)\n",
    "test_dataset = LengthDataset(test_ants)\n",
    "train_dataset = load_to_memory(train_dataset)\n",
    "test_dataset = load_to_memory(test_dataset)\n",
    "\n",
    "from torch.utils.data import DataLoader\n",
    "def get_train_loader():\n",
    "    return DataLoader(train_dataset, shuffle=True, batch_size=512)\n",
    "\n",
    "def get_test_loader():\n",
    "    return DataLoader(test_dataset, shuffle=False, batch_size=512)"
   ]
  },
  {
   "cell_type": "code",
   "execution_count": 4,
   "metadata": {},
   "outputs": [],
   "source": [
    "from models import *\n",
    "go_model = load_go_model_from_ckpt('model_ckpt.pth.tar', rm_prefix=True)\n",
    "feat_models = [CutModel(go_model, i).cuda() for i in range(8)]\n",
    "n_channels = [8, 64, 64, 64, 48, 48, 32, 32]\n",
    "probe_models = [nn.Sequential(nn.Flatten(), nn.Linear(nc*19*19, 1)).cuda() for nc in n_channels]"
   ]
  },
  {
   "cell_type": "code",
   "execution_count": null,
   "metadata": {},
   "outputs": [
    {
     "name": "stderr",
     "output_type": "stream",
     "text": [
      "  0%|▎                                                                                                                           | 1/412 [00:00<01:05,  6.25it/s]"
     ]
    },
    {
     "name": "stdout",
     "output_type": "stream",
     "text": [
      "probing at depth 0\n"
     ]
    },
    {
     "name": "stderr",
     "output_type": "stream",
     "text": [
      "100%|██████████████████████████████████████████████████████████████████████████████████████████████████████████████████████████| 412/412 [00:30<00:00, 13.51it/s]\n"
     ]
    },
    {
     "name": "stdout",
     "output_type": "stream",
     "text": [
      "[LOG] epoch 0 loss 0.680337, new best\n"
     ]
    },
    {
     "name": "stderr",
     "output_type": "stream",
     "text": [
      "100%|██████████████████████████████████████████████████████████████████████████████████████████████████████████████████████████| 412/412 [00:28<00:00, 14.53it/s]\n"
     ]
    },
    {
     "name": "stdout",
     "output_type": "stream",
     "text": [
      "[LOG] epoch 1 loss 0.694187\n"
     ]
    },
    {
     "name": "stderr",
     "output_type": "stream",
     "text": [
      "100%|██████████████████████████████████████████████████████████████████████████████████████████████████████████████████████████| 412/412 [00:20<00:00, 20.37it/s]\n",
      "  1%|▉                                                                                                                           | 3/412 [00:00<00:16, 24.19it/s]"
     ]
    },
    {
     "name": "stdout",
     "output_type": "stream",
     "text": [
      "[LOG] epoch 2 loss 0.686351\n"
     ]
    },
    {
     "name": "stderr",
     "output_type": "stream",
     "text": [
      "100%|██████████████████████████████████████████████████████████████████████████████████████████████████████████████████████████| 412/412 [00:22<00:00, 18.28it/s]\n",
      "  0%|                                                                                                                                    | 0/412 [00:00<?, ?it/s]"
     ]
    },
    {
     "name": "stdout",
     "output_type": "stream",
     "text": [
      "[LOG] epoch 3 loss 0.687982\n"
     ]
    },
    {
     "name": "stderr",
     "output_type": "stream",
     "text": [
      "100%|██████████████████████████████████████████████████████████████████████████████████████████████████████████████████████████| 412/412 [00:19<00:00, 21.64it/s]\n"
     ]
    },
    {
     "name": "stdout",
     "output_type": "stream",
     "text": [
      "[LOG] epoch 4 loss 0.693648\n"
     ]
    },
    {
     "name": "stderr",
     "output_type": "stream",
     "text": [
      "\r",
      "  0%|                                                                                                                                    | 0/412 [00:00<?, ?it/s]"
     ]
    },
    {
     "name": "stdout",
     "output_type": "stream",
     "text": [
      "0.592564883538786\n",
      "probing at depth 1\n"
     ]
    },
    {
     "name": "stderr",
     "output_type": "stream",
     "text": [
      "100%|██████████████████████████████████████████████████████████████████████████████████████████████████████████████████████████| 412/412 [00:29<00:00, 14.07it/s]\n",
      "  1%|▉                                                                                                                           | 3/412 [00:00<00:14, 28.30it/s]"
     ]
    },
    {
     "name": "stdout",
     "output_type": "stream",
     "text": [
      "[LOG] epoch 0 loss 0.700890, new best\n"
     ]
    },
    {
     "name": "stderr",
     "output_type": "stream",
     "text": [
      "100%|██████████████████████████████████████████████████████████████████████████████████████████████████████████████████████████| 412/412 [00:22<00:00, 18.41it/s]\n",
      "  0%|                                                                                                                                    | 0/412 [00:00<?, ?it/s]"
     ]
    },
    {
     "name": "stdout",
     "output_type": "stream",
     "text": [
      "[LOG] epoch 1 loss 0.718454\n"
     ]
    },
    {
     "name": "stderr",
     "output_type": "stream",
     "text": [
      "100%|██████████████████████████████████████████████████████████████████████████████████████████████████████████████████████████| 412/412 [00:17<00:00, 23.17it/s]\n",
      "  1%|▉                                                                                                                           | 3/412 [00:00<00:14, 28.30it/s]"
     ]
    },
    {
     "name": "stdout",
     "output_type": "stream",
     "text": [
      "[LOG] epoch 2 loss 0.708293\n"
     ]
    },
    {
     "name": "stderr",
     "output_type": "stream",
     "text": [
      "100%|██████████████████████████████████████████████████████████████████████████████████████████████████████████████████████████| 412/412 [00:20<00:00, 20.24it/s]\n",
      "  1%|█▏                                                                                                                          | 4/412 [00:00<00:14, 28.77it/s]"
     ]
    },
    {
     "name": "stdout",
     "output_type": "stream",
     "text": [
      "[LOG] epoch 3 loss 0.710890\n"
     ]
    },
    {
     "name": "stderr",
     "output_type": "stream",
     "text": [
      "100%|██████████████████████████████████████████████████████████████████████████████████████████████████████████████████████████| 412/412 [00:18<00:00, 21.74it/s]\n"
     ]
    },
    {
     "name": "stdout",
     "output_type": "stream",
     "text": [
      "[LOG] epoch 4 loss 0.718117\n"
     ]
    },
    {
     "name": "stderr",
     "output_type": "stream",
     "text": [
      "\r",
      "  0%|                                                                                                                                    | 0/412 [00:00<?, ?it/s]"
     ]
    },
    {
     "name": "stdout",
     "output_type": "stream",
     "text": [
      "0.5730746634507471\n",
      "probing at depth 2\n"
     ]
    },
    {
     "name": "stderr",
     "output_type": "stream",
     "text": [
      "100%|██████████████████████████████████████████████████████████████████████████████████████████████████████████████████████████| 412/412 [00:19<00:00, 20.67it/s]\n",
      "  1%|▉                                                                                                                           | 3/412 [00:00<00:17, 23.62it/s]"
     ]
    },
    {
     "name": "stdout",
     "output_type": "stream",
     "text": [
      "[LOG] epoch 0 loss 0.701213, new best\n"
     ]
    },
    {
     "name": "stderr",
     "output_type": "stream",
     "text": [
      "100%|██████████████████████████████████████████████████████████████████████████████████████████████████████████████████████████| 412/412 [00:22<00:00, 18.55it/s]\n",
      "  1%|▉                                                                                                                           | 3/412 [00:00<00:16, 25.21it/s]"
     ]
    },
    {
     "name": "stdout",
     "output_type": "stream",
     "text": [
      "[LOG] epoch 1 loss 0.708412\n"
     ]
    },
    {
     "name": "stderr",
     "output_type": "stream",
     "text": [
      "100%|██████████████████████████████████████████████████████████████████████████████████████████████████████████████████████████| 412/412 [00:16<00:00, 24.75it/s]\n",
      "  1%|▉                                                                                                                           | 3/412 [00:00<00:14, 29.12it/s]"
     ]
    },
    {
     "name": "stdout",
     "output_type": "stream",
     "text": [
      "[LOG] epoch 2 loss 0.708091\n"
     ]
    },
    {
     "name": "stderr",
     "output_type": "stream",
     "text": [
      "100%|██████████████████████████████████████████████████████████████████████████████████████████████████████████████████████████| 412/412 [00:19<00:00, 21.00it/s]\n",
      "  1%|▉                                                                                                                           | 3/412 [00:00<00:14, 27.52it/s]"
     ]
    },
    {
     "name": "stdout",
     "output_type": "stream",
     "text": [
      "[LOG] epoch 3 loss 0.712492\n"
     ]
    },
    {
     "name": "stderr",
     "output_type": "stream",
     "text": [
      "100%|██████████████████████████████████████████████████████████████████████████████████████████████████████████████████████████| 412/412 [00:17<00:00, 22.91it/s]\n"
     ]
    },
    {
     "name": "stdout",
     "output_type": "stream",
     "text": [
      "[LOG] epoch 4 loss 0.721443\n"
     ]
    },
    {
     "name": "stderr",
     "output_type": "stream",
     "text": [
      "\r",
      "  0%|                                                                                                                                    | 0/412 [00:00<?, ?it/s]"
     ]
    },
    {
     "name": "stdout",
     "output_type": "stream",
     "text": [
      "0.5814036922179364\n",
      "probing at depth 3\n"
     ]
    },
    {
     "name": "stderr",
     "output_type": "stream",
     "text": [
      "100%|██████████████████████████████████████████████████████████████████████████████████████████████████████████████████████████| 412/412 [00:24<00:00, 16.99it/s]\n"
     ]
    },
    {
     "name": "stdout",
     "output_type": "stream",
     "text": [
      "[LOG] epoch 0 loss 0.713821, new best\n"
     ]
    },
    {
     "name": "stderr",
     "output_type": "stream",
     "text": [
      "100%|██████████████████████████████████████████████████████████████████████████████████████████████████████████████████████████| 412/412 [00:35<00:00, 11.76it/s]\n",
      "  1%|▉                                                                                                                           | 3/412 [00:00<00:18, 22.72it/s]"
     ]
    },
    {
     "name": "stdout",
     "output_type": "stream",
     "text": [
      "[LOG] epoch 1 loss 0.717409\n"
     ]
    },
    {
     "name": "stderr",
     "output_type": "stream",
     "text": [
      "100%|██████████████████████████████████████████████████████████████████████████████████████████████████████████████████████████| 412/412 [00:24<00:00, 16.76it/s]\n",
      "  0%|▌                                                                                                                           | 2/412 [00:00<00:21, 19.04it/s]"
     ]
    },
    {
     "name": "stdout",
     "output_type": "stream",
     "text": [
      "[LOG] epoch 2 loss 0.741557\n"
     ]
    },
    {
     "name": "stderr",
     "output_type": "stream",
     "text": [
      "100%|██████████████████████████████████████████████████████████████████████████████████████████████████████████████████████████| 412/412 [00:29<00:00, 14.08it/s]\n",
      "  0%|▌                                                                                                                           | 2/412 [00:00<00:22, 18.18it/s]"
     ]
    },
    {
     "name": "stdout",
     "output_type": "stream",
     "text": [
      "[LOG] epoch 3 loss 0.740172\n"
     ]
    },
    {
     "name": "stderr",
     "output_type": "stream",
     "text": [
      "100%|██████████████████████████████████████████████████████████████████████████████████████████████████████████████████████████| 412/412 [00:20<00:00, 20.09it/s]\n"
     ]
    },
    {
     "name": "stdout",
     "output_type": "stream",
     "text": [
      "[LOG] epoch 4 loss 0.735043\n"
     ]
    },
    {
     "name": "stderr",
     "output_type": "stream",
     "text": [
      "\r",
      "  0%|                                                                                                                                    | 0/412 [00:00<?, ?it/s]"
     ]
    },
    {
     "name": "stdout",
     "output_type": "stream",
     "text": [
      "0.547364357456197\n",
      "probing at depth 4\n"
     ]
    },
    {
     "name": "stderr",
     "output_type": "stream",
     "text": [
      "100%|██████████████████████████████████████████████████████████████████████████████████████████████████████████████████████████| 412/412 [00:23<00:00, 17.67it/s]\n",
      "  0%|▌                                                                                                                           | 2/412 [00:00<00:26, 15.50it/s]"
     ]
    },
    {
     "name": "stdout",
     "output_type": "stream",
     "text": [
      "[LOG] epoch 0 loss 0.711511, new best\n"
     ]
    },
    {
     "name": "stderr",
     "output_type": "stream",
     "text": [
      "100%|██████████████████████████████████████████████████████████████████████████████████████████████████████████████████████████| 412/412 [00:26<00:00, 15.71it/s]\n",
      "  0%|▌                                                                                                                           | 2/412 [00:00<00:25, 15.99it/s]"
     ]
    },
    {
     "name": "stdout",
     "output_type": "stream",
     "text": [
      "[LOG] epoch 1 loss 0.720732\n"
     ]
    },
    {
     "name": "stderr",
     "output_type": "stream",
     "text": [
      "100%|██████████████████████████████████████████████████████████████████████████████████████████████████████████████████████████| 412/412 [00:25<00:00, 15.89it/s]\n",
      "  0%|▌                                                                                                                           | 2/412 [00:00<00:30, 13.60it/s]"
     ]
    },
    {
     "name": "stdout",
     "output_type": "stream",
     "text": [
      "[LOG] epoch 2 loss 0.748297\n"
     ]
    },
    {
     "name": "stderr",
     "output_type": "stream",
     "text": [
      "100%|██████████████████████████████████████████████████████████████████████████████████████████████████████████████████████████| 412/412 [00:27<00:00, 15.21it/s]\n",
      "  0%|▌                                                                                                                           | 2/412 [00:00<00:27, 14.70it/s]"
     ]
    },
    {
     "name": "stdout",
     "output_type": "stream",
     "text": [
      "[LOG] epoch 3 loss 0.735983\n"
     ]
    },
    {
     "name": "stderr",
     "output_type": "stream",
     "text": [
      "100%|██████████████████████████████████████████████████████████████████████████████████████████████████████████████████████████| 412/412 [00:30<00:00, 13.73it/s]\n"
     ]
    },
    {
     "name": "stdout",
     "output_type": "stream",
     "text": [
      "[LOG] epoch 4 loss 0.743988\n"
     ]
    },
    {
     "name": "stderr",
     "output_type": "stream",
     "text": [
      "\r",
      "  0%|                                                                                                                                    | 0/412 [00:00<?, ?it/s]"
     ]
    },
    {
     "name": "stdout",
     "output_type": "stream",
     "text": [
      "0.5586899696690576\n",
      "probing at depth 5\n"
     ]
    },
    {
     "name": "stderr",
     "output_type": "stream",
     "text": [
      "100%|██████████████████████████████████████████████████████████████████████████████████████████████████████████████████████████| 412/412 [00:30<00:00, 13.60it/s]\n",
      "  0%|▌                                                                                                                           | 2/412 [00:00<00:30, 13.51it/s]"
     ]
    },
    {
     "name": "stdout",
     "output_type": "stream",
     "text": [
      "[LOG] epoch 0 loss 0.692599, new best\n"
     ]
    },
    {
     "name": "stderr",
     "output_type": "stream",
     "text": [
      "100%|██████████████████████████████████████████████████████████████████████████████████████████████████████████████████████████| 412/412 [00:30<00:00, 13.41it/s]\n",
      "  0%|▌                                                                                                                           | 2/412 [00:00<00:29, 13.79it/s]"
     ]
    },
    {
     "name": "stdout",
     "output_type": "stream",
     "text": [
      "[LOG] epoch 1 loss 0.699546\n"
     ]
    },
    {
     "name": "stderr",
     "output_type": "stream",
     "text": [
      "100%|██████████████████████████████████████████████████████████████████████████████████████████████████████████████████████████| 412/412 [00:32<00:00, 12.76it/s]\n",
      "  0%|▌                                                                                                                           | 2/412 [00:00<00:29, 13.79it/s]"
     ]
    },
    {
     "name": "stdout",
     "output_type": "stream",
     "text": [
      "[LOG] epoch 2 loss 0.708566\n"
     ]
    },
    {
     "name": "stderr",
     "output_type": "stream",
     "text": [
      "100%|██████████████████████████████████████████████████████████████████████████████████████████████████████████████████████████| 412/412 [00:31<00:00, 12.92it/s]\n",
      "  0%|▌                                                                                                                           | 2/412 [00:00<00:30, 13.42it/s]"
     ]
    },
    {
     "name": "stdout",
     "output_type": "stream",
     "text": [
      "[LOG] epoch 3 loss 0.713974\n"
     ]
    },
    {
     "name": "stderr",
     "output_type": "stream",
     "text": [
      "100%|██████████████████████████████████████████████████████████████████████████████████████████████████████████████████████████| 412/412 [00:32<00:00, 12.59it/s]\n"
     ]
    },
    {
     "name": "stdout",
     "output_type": "stream",
     "text": [
      "[LOG] epoch 4 loss 0.720056\n"
     ]
    },
    {
     "name": "stderr",
     "output_type": "stream",
     "text": [
      "\r",
      "  0%|                                                                                                                                    | 0/412 [00:00<?, ?it/s]"
     ]
    },
    {
     "name": "stdout",
     "output_type": "stream",
     "text": [
      "0.5793768520856525\n",
      "probing at depth 6\n"
     ]
    },
    {
     "name": "stderr",
     "output_type": "stream",
     "text": [
      "100%|██████████████████████████████████████████████████████████████████████████████████████████████████████████████████████████| 412/412 [00:34<00:00, 11.89it/s]\n",
      "  0%|▌                                                                                                                           | 2/412 [00:00<00:30, 13.33it/s]"
     ]
    },
    {
     "name": "stdout",
     "output_type": "stream",
     "text": [
      "[LOG] epoch 0 loss 0.683104, new best\n"
     ]
    },
    {
     "name": "stderr",
     "output_type": "stream",
     "text": [
      "100%|██████████████████████████████████████████████████████████████████████████████████████████████████████████████████████████| 412/412 [00:32<00:00, 12.55it/s]\n",
      "  0%|▌                                                                                                                           | 2/412 [00:00<00:33, 12.34it/s]"
     ]
    },
    {
     "name": "stdout",
     "output_type": "stream",
     "text": [
      "[LOG] epoch 1 loss 0.686122\n"
     ]
    },
    {
     "name": "stderr",
     "output_type": "stream",
     "text": [
      "100%|██████████████████████████████████████████████████████████████████████████████████████████████████████████████████████████| 412/412 [00:33<00:00, 12.23it/s]\n",
      "  0%|▌                                                                                                                           | 2/412 [00:00<00:33, 12.12it/s]"
     ]
    },
    {
     "name": "stdout",
     "output_type": "stream",
     "text": [
      "[LOG] epoch 2 loss 0.690547\n"
     ]
    },
    {
     "name": "stderr",
     "output_type": "stream",
     "text": [
      "100%|██████████████████████████████████████████████████████████████████████████████████████████████████████████████████████████| 412/412 [00:39<00:00, 10.32it/s]\n",
      "  0%|▌                                                                                                                           | 2/412 [00:00<00:34, 11.97it/s]"
     ]
    },
    {
     "name": "stdout",
     "output_type": "stream",
     "text": [
      "[LOG] epoch 3 loss 0.694746\n"
     ]
    },
    {
     "name": "stderr",
     "output_type": "stream",
     "text": [
      "100%|██████████████████████████████████████████████████████████████████████████████████████████████████████████████████████████| 412/412 [00:36<00:00, 11.23it/s]\n"
     ]
    }
   ],
   "source": [
    "def unsqueezeBCE(pred, target):\n",
    "    return nn.BCEWithLogitsLoss()(pred, target.unsqueeze(dim=1))\n",
    "criterion = unsqueezeBCE\n",
    "\n",
    "aucs = []\n",
    "for depth in range(0, 8):\n",
    "    print('probing at depth %d' % depth)\n",
    "    feat_model = feat_models[depth]\n",
    "    probe_model = probe_models[depth]\n",
    "    exp = ProbeExperiment(get_train_loader, get_test_loader, feat_model)\n",
    "    config = {'name':'len/len_d%d'%depth, 'write_log':True, 'progress_bar':True, 'save_ckpt':False}\n",
    "    optimizer = torch.optim.Adam(probe_model.parameters())\n",
    "    exp.run(probe_model, criterion, optimizer, 5, config)\n",
    "    preds, labels = exp.get_predictions(probe_model, get_test_loader())\n",
    "    auc = roc_auc_score(labels.flatten(), preds.flatten())\n",
    "    aucs.append(auc)\n",
    "    print(auc)"
   ]
  }
 ],
 "metadata": {
  "kernelspec": {
   "display_name": "Python 3",
   "language": "python",
   "name": "python3"
  },
  "language_info": {
   "codemirror_mode": {
    "name": "ipython",
    "version": 3
   },
   "file_extension": ".py",
   "mimetype": "text/x-python",
   "name": "python",
   "nbconvert_exporter": "python",
   "pygments_lexer": "ipython3",
   "version": "3.6.12"
  }
 },
 "nbformat": 4,
 "nbformat_minor": 5
}
